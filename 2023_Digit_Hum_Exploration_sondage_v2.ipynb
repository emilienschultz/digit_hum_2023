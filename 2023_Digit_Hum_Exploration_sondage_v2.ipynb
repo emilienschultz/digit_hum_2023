{
 "cells": [
  {
   "cell_type": "markdown",
   "id": "2269caad",
   "metadata": {
    "id": "2269caad"
   },
   "source": [
    "# Enquête Digit_Hum 2023 « Manipuler des données en Sciences humaines et sociales (SHS) : R, Python, ou autre ? »\n",
    "\n",
    "Notebook créé en mai 2023 (dernière révision le 30/11/2023) par Emilien Schultz pour traiter les résultats du [sondage diffusé du 27 mars au 28 avril 2023](https://framaforms.org/manipuler-des-donnees-en-sciences-humaines-et-sociales-shs-r-python-ou-autre-1675889669).\n",
    "\n",
    "*L'enquête a été préparée par les membres de l&#39;initiative Digit_Hum (ENS PSL), Marie-Laure Massot (CNRS, CAPHÉS) et Agnès Tricoche (CNRS, AOROC), avec le concours de Veronika Fedotova (Master 2 Humanités Numériques, Université Sorbonne Nouvelle) et en collaboration avec Emilien Schultz (chercheur en sociologie au médialab de SciencesPo). Dernière modification le 20/09/2023.*\n",
    "\n",
    "\n",
    "## Méthodologie et type de données\n",
    "\n",
    "Ce sondage était destiné à tous les personnels impliqués dans la recherche et / ou l'enseignement en sciences humaines et sociales mobilisant du traitement de\n",
    "données (humanités numériques, sciences sociales computationnelles, etc.). Il a été diffusé sur la liste de diffusions DH, sur les sites de l’Observatoire des Humanités numériques de l’ENS PSL et de l’INSHS du CNRS.\n",
    "\n",
    "L’enquête visait à mieux connaître les usages de la programmation chez les chercheurs, enseignants-chercheurs, étudiants et personnels de soutien à la recherche. Les résultats obtenus permettent de proposer un état des lieux de l’existant afin d’accompagner et d’améliorer les pratiques en proposant des ressources pour s’informer ou se former.\n",
    "\n",
    "217 personnes ont répondu à cette enquête ce qui nous a permis de dresser un panorama réaliste des pratiques actuelles relevant de la programmation en SHS.\n",
    "\n",
    "## Table des matières\n",
    "\n",
    "1. Préparation des données\n",
    "2. Nettoyage des données et standardisation\n",
    "\n",
    "3. Description de l’échantillon\n",
    "4. Analyse des résultats spécifiques à la programmation scientifique\n",
    "5. Focus sur les usages des carnets interactifs\n",
    "6. Ressources liées\n",
    "\n",
    "## Citation\n",
    "\n",
    "*Enquête Digit_Hum « Manipuler des données en Sciences humaines et sociales (SHS) : R, Python, ou autre ? » rapport, Marie-Laure Massot, Agnès Tricoche et Emilien Schultz, septembre 2023. (Notebook déposé dans HAL et consultable sur le site Digit_Hum, rubrique enquête).*"
   ]
  },
  {
   "cell_type": "markdown",
   "id": "ac2811f7",
   "metadata": {
    "id": "ac2811f7"
   },
   "source": [
    "## 1. Préparation des données"
   ]
  },
  {
   "cell_type": "markdown",
   "id": "6bc5fb7c",
   "metadata": {
    "id": "6bc5fb7c"
   },
   "source": [
    "### 1.1 Import des bibliothèques"
   ]
  },
  {
   "cell_type": "code",
   "execution_count": 1,
   "id": "3150b01f",
   "metadata": {},
   "outputs": [],
   "source": [
    "#pip install -r requirements.txt"
   ]
  },
  {
   "cell_type": "code",
   "execution_count": 1,
   "id": "b4b58eb5",
   "metadata": {
    "id": "b4b58eb5"
   },
   "outputs": [],
   "source": [
    "import pandas as pd\n",
    "import matplotlib.pyplot as plt\n",
    "import pyshs\n",
    "import json\n",
    "import requests\n",
    "\n",
    "import warnings # éviter les warnings\n",
    "warnings.simplefilter('ignore')"
   ]
  },
  {
   "cell_type": "markdown",
   "id": "a33d9eeb",
   "metadata": {
    "id": "a33d9eeb"
   },
   "source": [
    "### 1.2 Import des données issues du questionnaire"
   ]
  },
  {
   "cell_type": "markdown",
   "id": "6b9ff2c5",
   "metadata": {},
   "source": [
    "En local"
   ]
  },
  {
   "cell_type": "code",
   "execution_count": null,
   "id": "44c13596",
   "metadata": {},
   "outputs": [],
   "source": [
    "data = pd.read_csv(\"./manipuler_des_donnees_en_sciences_humaines_et_sociales_shs___r_python_ou_autre_2023_05_03.csv\",sep=\";\", skiprows=[0,1])"
   ]
  },
  {
   "cell_type": "markdown",
   "id": "8de27ecb",
   "metadata": {},
   "source": [
    "En ligne"
   ]
  },
  {
   "cell_type": "code",
   "execution_count": 2,
   "id": "27bd8eb6",
   "metadata": {
    "id": "27bd8eb6"
   },
   "outputs": [],
   "source": [
    "url = \"https://raw.githubusercontent.com/emilienschultz/digithum_survey/main/manipuler_des_donnees_en_sciences_humaines_et_sociales_shs___r_python_ou_autre_2023_05_03.csv\"\n",
    "data = pd.read_csv(url,sep=\";\", skiprows=[0,1])"
   ]
  },
  {
   "cell_type": "markdown",
   "id": "Ro5kO0AmRLLk",
   "metadata": {
    "id": "Ro5kO0AmRLLk"
   },
   "source": [
    "## 2. Nettoyage des données et standardisation"
   ]
  },
  {
   "cell_type": "markdown",
   "id": "44a8f618",
   "metadata": {
    "id": "44a8f618"
   },
   "source": [
    "### 2.1 Recodage du nom des variables\n",
    "\n",
    "Pour avoir des noms de colonnes plus lisibles à partir de la sortie de l'interface de sondage (Framaforms)"
   ]
  },
  {
   "cell_type": "markdown",
   "id": "fe081d40",
   "metadata": {},
   "source": [
    "En local"
   ]
  },
  {
   "cell_type": "code",
   "execution_count": null,
   "id": "29ff14bd",
   "metadata": {},
   "outputs": [],
   "source": [
    "json.dump(reco,open(\"./reco_columns.json\",\"w\"))\n",
    "reco = json.load(open(\"./reco_columns.json\",\"r\"))"
   ]
  },
  {
   "cell_type": "markdown",
   "id": "feea91c1",
   "metadata": {},
   "source": [
    "En ligne"
   ]
  },
  {
   "cell_type": "code",
   "execution_count": 3,
   "id": "971e3342",
   "metadata": {
    "colab": {
     "base_uri": "https://localhost:8080/"
    },
    "id": "971e3342",
    "outputId": "fd48f050-c84a-4d8d-fd77-b919518b98f0"
   },
   "outputs": [],
   "source": [
    "url = \"https://raw.githubusercontent.com/emilienschultz/digithum_survey/main/reco_columns.json\"\n",
    "reco = json.loads(requests.get(url).content)"
   ]
  },
  {
   "cell_type": "code",
   "execution_count": 4,
   "id": "79a1e252",
   "metadata": {},
   "outputs": [
    {
     "name": "stdout",
     "output_type": "stream",
     "text": [
      "(216, 80)\n"
     ]
    },
    {
     "data": {
      "text/plain": [
       "Index(['heure', 'genre', 'statut', 'autre', 'contrat', 'age',\n",
       "       'disc_Anthropologie', 'disc_Archéologie', 'disc_Economie',\n",
       "       'disc_Géographie', 'disc_Histoire', 'disc_Linguistique',\n",
       "       'disc_Littérature', 'disc_Philosophie', 'disc_Psychologie',\n",
       "       'disc_Sociologie', 'disc_Autre', 'prog_A+', 'prog_Bash', 'prog_C',\n",
       "       'prog_Java', 'prog_JavaScript', 'prog_Julia', 'prog_Pascal',\n",
       "       'prog_Perl', 'prog_PHP', 'prog_Python', 'prog_R', 'prog_Rust',\n",
       "       'prog_Swift', 'prog_SQL', 'prog_Autre', 'prog_Autre_lang',\n",
       "       'donnees_Image', 'donnees_Son', 'donnees_Vidéo', 'donnees_Texte',\n",
       "       'donnees_Géographique', 'donnees_Numérique', 'donnees_autres',\n",
       "       'entendu_python', 'familiarite_python', 'experience_python',\n",
       "       'activite_python', 'niveau_python', 'pratique_python',\n",
       "       'exemples_python', 'temps_python', 'collegues_python',\n",
       "       'traitements_python', 'ressources_python', 'entendu_r', 'familiarite_r',\n",
       "       'experience_r', 'activite_r', 'niveau_r', 'pratique_r', 'exemple_r',\n",
       "       'temps_r', 'collegues_r', 'traitements_r', 'ressources_r',\n",
       "       'usages_spe_r', 'entendu_jupyter', 'usage_jupyter', 'notebook_Jupyter',\n",
       "       'notebook_Google Colab', 'notebook_Autre.1', 'familiarite_notebook',\n",
       "       'experience_notebook', 'niveau_notebook', 'pratique_notebook',\n",
       "       'exemple_notebook', 'temps_notebook', 'collegue_notebook',\n",
       "       'traitement_notebook', 'type_notebook', 'ressources_notebook',\n",
       "       'progsci_shs', 'commentaires_finaux'],\n",
       "      dtype='object')"
      ]
     },
     "execution_count": 4,
     "metadata": {},
     "output_type": "execute_result"
    }
   ],
   "source": [
    "data = data.rename(columns= reco)\n",
    "data = data.drop(columns=\"drop\")\n",
    "print(data.shape)\n",
    "data.columns"
   ]
  },
  {
   "cell_type": "markdown",
   "id": "5844d955",
   "metadata": {
    "id": "5844d955"
   },
   "source": [
    "### 2.2 Nettoyage des données et recodage des variables\n",
    "\n",
    "Recodage des modalités des questions :\n",
    "\n",
    "- les disciplines ont été recodées à la main dans un fichier reco_disciplines.xlsx (il manquait des options dans le questionnaire donc les répondants ont précisé leurs discipline)\n",
    "- plusieurs recodages ont été fait pour réduire le nombre de modalités et la taille des labels"
   ]
  },
  {
   "cell_type": "code",
   "execution_count": 6,
   "id": "64822a3b",
   "metadata": {
    "id": "64822a3b"
   },
   "outputs": [],
   "source": [
    "#enlever si l'âge n'est pas mentionné\n",
    "f_missing = data[\"age\"].notna()\n",
    "data = data[f_missing]\n",
    "\n",
    "# recodage des discisciplines : sortie des disciplines autres > recodage manuel\n",
    "# data[[\"disc_Autre\"]].dropna().to_excel(\"reco_disciplines.xlsx\")\n",
    "\n",
    "# en local\n",
    "#reco_disc = pd.read_excel(\"reco_disciplines.xlsx\")\n",
    "\n",
    "# en ligne\n",
    "url = \"https://raw.githubusercontent.com/emilienschultz/digithum_survey/main/reco_disciplines.csv\"\n",
    "reco_disc = pd.read_csv(url,sep=\";\")\n",
    "\n",
    "data[\"disc_Autre_reco\"] = reco_disc.set_index(\"Unnamed: 0\")[\"Recodage\"]\n",
    "disc = ['disc_Anthropologie',\n",
    " 'disc_Archéologie',\n",
    " 'disc_Economie',\n",
    " 'disc_Géographie',\n",
    " 'disc_Histoire',\n",
    " 'disc_Linguistique',\n",
    " 'disc_Littérature',\n",
    " 'disc_Philosophie',\n",
    " 'disc_Psychologie',\n",
    " 'disc_Sociologie',\n",
    " 'disc_Autre_reco']\n",
    "for i in disc[:-1]:\n",
    "    data[i+\"_reco\"] = data[i].apply(lambda x : i.replace(\"disc_\",\"\") if pd.notnull(x) else x)\n",
    "def vers_liste(x):\n",
    "    return list(set([i for i in list(x) if type(i)==str]))\n",
    "data[\"disciplines\"] = data[[i for i in data.columns if \"disc\" in i and \"reco\" in i]].apply(vers_liste,axis=1)\n",
    "\n",
    "\n",
    "reco = {\"Je l'utilise, à un niveau débutant\":\"2. Use it (beginner)\",\n",
    "       \"Je l'utilise, à un niveau intermédiaire\":\"3. Use it (intermediary)\",\n",
    "       \"J'en ai juste entendu parlé\":\"1. Heard about it\", \"Je l'utilise, à un niveau avancé\":\"4. Use it (advanced)\",\n",
    "       \"J'en ai juste entendu parler\":\"1. Heard about it\",\"Je ne connais pas\":\"0. Don't know\"}\n",
    "reco = {\"Je l'utilise, à un niveau débutant\":\"2-usage débutant\",\n",
    "       \"Je l'utilise, à un niveau intermédiaire\":\"3-usage intermédiaire\",\n",
    "       \"J'en ai juste entendu parlé\":\"1-entendu parlé\", \"Je l'utilise, à un niveau avancé\":\"4-usage avancé\",\n",
    "       \"J'en ai juste entendu parler\":\"1-entendu parlé\",\"Je ne connais pas\":\"NA\"}\n",
    "data[\"familiarite_python\"] = data[\"familiarite_python\"].replace(reco).fillna(\"NA\")\n",
    "data[\"familiarite_notebook\"] = data[\"familiarite_notebook\"].replace(reco)#.fillna(\"0. Don't know\")\n",
    "data[\"familiarite_r\"] = data[\"familiarite_r\"].replace(reco).fillna(\"NA\")\n",
    "reco = {'46 - 55 ans': '5. 46 - 55',\n",
    " '26 - 35 ans': '2. 26 - 35',\n",
    " 'Moins de 25 ans': '1. <25',\n",
    " '36 - 45 ans': '3. 36 - 45',\n",
    " 'Plus de 56 ans': '5. >56'}\n",
    "data[\"age\"] = data[\"age\"].replace(reco)\n",
    "\n",
    "reco = {\"Oui, à la fois pour la recherche et pour l'enseignement\":\"4. Teaching and research\",\n",
    "       'Oui, pour la recherche':\"2. Only research\", 'Non':\"1. No\", \"Oui, pour l'enseignement\":\"3. Only teaching\"}\n",
    "reco = {\"Oui, à la fois pour la recherche et pour l'enseignement\":\"4-Enseignement et recherche\",\n",
    "       'Oui, pour la recherche':\"2-Que recherche\", 'Non':\"1-Nono\", \"Oui, pour l'enseignement\":\"3-Enseignement\"}\n",
    "data[\"experience_notebook\"] = data[\"experience_notebook\"].replace(reco)\n",
    "\n",
    "reco = {'0 à 3 ans':\"0-3\",  '3 à 5 ans':\"3-5\", '5 à 10 ans':\"5-10\"}\n",
    "data[\"temps_notebook\"] = data[\"temps_notebook\"].replace(reco)\n",
    "\n",
    "reco = {'Oui, un peu':\"2-Oui, quelques uns\", 'Oui, beaucoup':\"2-Oui, beaucoup\", 'Non':\"1-Non\"}\n",
    "data[\"collegue_notebook\"] = data[\"collegue_notebook\"].replace(reco)\n",
    "\n",
    "reco = {'Oui, plutôt':\"2-Oui, plutôt\", 'Oui, beaucoup':\"3-Oui, beaucoup\", 'Je ne sais pas':\"4-NSP\",\n",
    "       'Non, pas du tout':\"1-Non, pas du tout\"}\n",
    "data[\"progsci_shs\"] = data[\"progsci_shs\"].replace(reco)"
   ]
  },
  {
   "cell_type": "markdown",
   "id": "02c9693c",
   "metadata": {
    "id": "02c9693c"
   },
   "source": [
    "## 3. Description de l'échantillon"
   ]
  },
  {
   "cell_type": "markdown",
   "id": "Ku_iYqx1SGar",
   "metadata": {
    "id": "Ku_iYqx1SGar"
   },
   "source": [
    "### 3.1 Variables socio-professionnelles"
   ]
  },
  {
   "cell_type": "code",
   "execution_count": null,
   "id": "c1a4b9e9",
   "metadata": {
    "colab": {
     "base_uri": "https://localhost:8080/",
     "height": 739
    },
    "id": "c1a4b9e9",
    "outputId": "954d15af-14f2-4eb0-fbf9-730f0ddaf327"
   },
   "outputs": [
    {
     "data": {
      "text/html": [
       "\n",
       "  <div id=\"df-efbd4160-1784-4d94-972e-80411e695b21\" class=\"colab-df-container\">\n",
       "    <div>\n",
       "<style scoped>\n",
       "    .dataframe tbody tr th:only-of-type {\n",
       "        vertical-align: middle;\n",
       "    }\n",
       "\n",
       "    .dataframe tbody tr th {\n",
       "        vertical-align: top;\n",
       "    }\n",
       "\n",
       "    .dataframe thead th {\n",
       "        text-align: right;\n",
       "    }\n",
       "</style>\n",
       "<table border=\"1\" class=\"dataframe\">\n",
       "  <thead>\n",
       "    <tr style=\"text-align: right;\">\n",
       "      <th></th>\n",
       "      <th></th>\n",
       "      <th>Effectif</th>\n",
       "      <th>Pourcentage (%)</th>\n",
       "    </tr>\n",
       "  </thead>\n",
       "  <tbody>\n",
       "    <tr>\n",
       "      <th rowspan=\"6\" valign=\"top\">Age</th>\n",
       "      <th>1. &lt;25</th>\n",
       "      <td>19.0</td>\n",
       "      <td>9.2</td>\n",
       "    </tr>\n",
       "    <tr>\n",
       "      <th>2. 26 - 35</th>\n",
       "      <td>80.0</td>\n",
       "      <td>38.8</td>\n",
       "    </tr>\n",
       "    <tr>\n",
       "      <th>3. 36 - 45</th>\n",
       "      <td>51.0</td>\n",
       "      <td>24.8</td>\n",
       "    </tr>\n",
       "    <tr>\n",
       "      <th>5. 46 - 55</th>\n",
       "      <td>39.0</td>\n",
       "      <td>18.9</td>\n",
       "    </tr>\n",
       "    <tr>\n",
       "      <th>5. &gt;56</th>\n",
       "      <td>17.0</td>\n",
       "      <td>8.3</td>\n",
       "    </tr>\n",
       "    <tr>\n",
       "      <th>Total</th>\n",
       "      <td>206.0</td>\n",
       "      <td>100.0</td>\n",
       "    </tr>\n",
       "    <tr>\n",
       "      <th rowspan=\"4\" valign=\"top\">Genre</th>\n",
       "      <th>Autre</th>\n",
       "      <td>6.0</td>\n",
       "      <td>2.9</td>\n",
       "    </tr>\n",
       "    <tr>\n",
       "      <th>F</th>\n",
       "      <td>102.0</td>\n",
       "      <td>50.0</td>\n",
       "    </tr>\n",
       "    <tr>\n",
       "      <th>H</th>\n",
       "      <td>96.0</td>\n",
       "      <td>47.1</td>\n",
       "    </tr>\n",
       "    <tr>\n",
       "      <th>Total</th>\n",
       "      <td>204.0</td>\n",
       "      <td>100.0</td>\n",
       "    </tr>\n",
       "    <tr>\n",
       "      <th rowspan=\"8\" valign=\"top\">Statut</th>\n",
       "      <th>Chercheur</th>\n",
       "      <td>23.0</td>\n",
       "      <td>11.2</td>\n",
       "    </tr>\n",
       "    <tr>\n",
       "      <th>Doctorant</th>\n",
       "      <td>45.0</td>\n",
       "      <td>21.8</td>\n",
       "    </tr>\n",
       "    <tr>\n",
       "      <th>Enseignant-chercheur</th>\n",
       "      <td>39.0</td>\n",
       "      <td>18.9</td>\n",
       "    </tr>\n",
       "    <tr>\n",
       "      <th>Etudiant (jusqu'au master 2)</th>\n",
       "      <td>19.0</td>\n",
       "      <td>9.2</td>\n",
       "    </tr>\n",
       "    <tr>\n",
       "      <th>Ingénieur d'études</th>\n",
       "      <td>45.0</td>\n",
       "      <td>21.8</td>\n",
       "    </tr>\n",
       "    <tr>\n",
       "      <th>Ingénieur de recherche</th>\n",
       "      <td>18.0</td>\n",
       "      <td>8.7</td>\n",
       "    </tr>\n",
       "    <tr>\n",
       "      <th>Post-doctorant</th>\n",
       "      <td>17.0</td>\n",
       "      <td>8.3</td>\n",
       "    </tr>\n",
       "    <tr>\n",
       "      <th>Total</th>\n",
       "      <td>206.0</td>\n",
       "      <td>99.9</td>\n",
       "    </tr>\n",
       "    <tr>\n",
       "      <th rowspan=\"4\" valign=\"top\">Type de contrat</th>\n",
       "      <th>CDI de droit privé</th>\n",
       "      <td>16.0</td>\n",
       "      <td>8.2</td>\n",
       "    </tr>\n",
       "    <tr>\n",
       "      <th>Non titulaire (CDD)</th>\n",
       "      <td>84.0</td>\n",
       "      <td>42.9</td>\n",
       "    </tr>\n",
       "    <tr>\n",
       "      <th>Titulaire de la fonction publique</th>\n",
       "      <td>96.0</td>\n",
       "      <td>49.0</td>\n",
       "    </tr>\n",
       "    <tr>\n",
       "      <th>Total</th>\n",
       "      <td>196.0</td>\n",
       "      <td>100.1</td>\n",
       "    </tr>\n",
       "  </tbody>\n",
       "</table>\n",
       "</div>\n",
       "    <div class=\"colab-df-buttons\">\n",
       "\n",
       "  <div class=\"colab-df-container\">\n",
       "    <button class=\"colab-df-convert\" onclick=\"convertToInteractive('df-efbd4160-1784-4d94-972e-80411e695b21')\"\n",
       "            title=\"Convert this dataframe to an interactive table.\"\n",
       "            style=\"display:none;\">\n",
       "\n",
       "  <svg xmlns=\"http://www.w3.org/2000/svg\" height=\"24px\" viewBox=\"0 -960 960 960\">\n",
       "    <path d=\"M120-120v-720h720v720H120Zm60-500h600v-160H180v160Zm220 220h160v-160H400v160Zm0 220h160v-160H400v160ZM180-400h160v-160H180v160Zm440 0h160v-160H620v160ZM180-180h160v-160H180v160Zm440 0h160v-160H620v160Z\"/>\n",
       "  </svg>\n",
       "    </button>\n",
       "\n",
       "  <style>\n",
       "    .colab-df-container {\n",
       "      display:flex;\n",
       "      gap: 12px;\n",
       "    }\n",
       "\n",
       "    .colab-df-convert {\n",
       "      background-color: #E8F0FE;\n",
       "      border: none;\n",
       "      border-radius: 50%;\n",
       "      cursor: pointer;\n",
       "      display: none;\n",
       "      fill: #1967D2;\n",
       "      height: 32px;\n",
       "      padding: 0 0 0 0;\n",
       "      width: 32px;\n",
       "    }\n",
       "\n",
       "    .colab-df-convert:hover {\n",
       "      background-color: #E2EBFA;\n",
       "      box-shadow: 0px 1px 2px rgba(60, 64, 67, 0.3), 0px 1px 3px 1px rgba(60, 64, 67, 0.15);\n",
       "      fill: #174EA6;\n",
       "    }\n",
       "\n",
       "    .colab-df-buttons div {\n",
       "      margin-bottom: 4px;\n",
       "    }\n",
       "\n",
       "    [theme=dark] .colab-df-convert {\n",
       "      background-color: #3B4455;\n",
       "      fill: #D2E3FC;\n",
       "    }\n",
       "\n",
       "    [theme=dark] .colab-df-convert:hover {\n",
       "      background-color: #434B5C;\n",
       "      box-shadow: 0px 1px 3px 1px rgba(0, 0, 0, 0.15);\n",
       "      filter: drop-shadow(0px 1px 2px rgba(0, 0, 0, 0.3));\n",
       "      fill: #FFFFFF;\n",
       "    }\n",
       "  </style>\n",
       "\n",
       "    <script>\n",
       "      const buttonEl =\n",
       "        document.querySelector('#df-efbd4160-1784-4d94-972e-80411e695b21 button.colab-df-convert');\n",
       "      buttonEl.style.display =\n",
       "        google.colab.kernel.accessAllowed ? 'block' : 'none';\n",
       "\n",
       "      async function convertToInteractive(key) {\n",
       "        const element = document.querySelector('#df-efbd4160-1784-4d94-972e-80411e695b21');\n",
       "        const dataTable =\n",
       "          await google.colab.kernel.invokeFunction('convertToInteractive',\n",
       "                                                    [key], {});\n",
       "        if (!dataTable) return;\n",
       "\n",
       "        const docLinkHtml = 'Like what you see? Visit the ' +\n",
       "          '<a target=\"_blank\" href=https://colab.research.google.com/notebooks/data_table.ipynb>data table notebook</a>'\n",
       "          + ' to learn more about interactive tables.';\n",
       "        element.innerHTML = '';\n",
       "        dataTable['output_type'] = 'display_data';\n",
       "        await google.colab.output.renderOutput(dataTable, element);\n",
       "        const docLink = document.createElement('div');\n",
       "        docLink.innerHTML = docLinkHtml;\n",
       "        element.appendChild(docLink);\n",
       "      }\n",
       "    </script>\n",
       "  </div>\n",
       "\n",
       "\n",
       "<div id=\"df-af3b0f76-89bf-4f01-97dc-3e5e161a9189\">\n",
       "  <button class=\"colab-df-quickchart\" onclick=\"quickchart('df-af3b0f76-89bf-4f01-97dc-3e5e161a9189')\"\n",
       "            title=\"Suggest charts.\"\n",
       "            style=\"display:none;\">\n",
       "\n",
       "<svg xmlns=\"http://www.w3.org/2000/svg\" height=\"24px\"viewBox=\"0 0 24 24\"\n",
       "     width=\"24px\">\n",
       "    <g>\n",
       "        <path d=\"M19 3H5c-1.1 0-2 .9-2 2v14c0 1.1.9 2 2 2h14c1.1 0 2-.9 2-2V5c0-1.1-.9-2-2-2zM9 17H7v-7h2v7zm4 0h-2V7h2v10zm4 0h-2v-4h2v4z\"/>\n",
       "    </g>\n",
       "</svg>\n",
       "  </button>\n",
       "\n",
       "<style>\n",
       "  .colab-df-quickchart {\n",
       "      --bg-color: #E8F0FE;\n",
       "      --fill-color: #1967D2;\n",
       "      --hover-bg-color: #E2EBFA;\n",
       "      --hover-fill-color: #174EA6;\n",
       "      --disabled-fill-color: #AAA;\n",
       "      --disabled-bg-color: #DDD;\n",
       "  }\n",
       "\n",
       "  [theme=dark] .colab-df-quickchart {\n",
       "      --bg-color: #3B4455;\n",
       "      --fill-color: #D2E3FC;\n",
       "      --hover-bg-color: #434B5C;\n",
       "      --hover-fill-color: #FFFFFF;\n",
       "      --disabled-bg-color: #3B4455;\n",
       "      --disabled-fill-color: #666;\n",
       "  }\n",
       "\n",
       "  .colab-df-quickchart {\n",
       "    background-color: var(--bg-color);\n",
       "    border: none;\n",
       "    border-radius: 50%;\n",
       "    cursor: pointer;\n",
       "    display: none;\n",
       "    fill: var(--fill-color);\n",
       "    height: 32px;\n",
       "    padding: 0;\n",
       "    width: 32px;\n",
       "  }\n",
       "\n",
       "  .colab-df-quickchart:hover {\n",
       "    background-color: var(--hover-bg-color);\n",
       "    box-shadow: 0 1px 2px rgba(60, 64, 67, 0.3), 0 1px 3px 1px rgba(60, 64, 67, 0.15);\n",
       "    fill: var(--button-hover-fill-color);\n",
       "  }\n",
       "\n",
       "  .colab-df-quickchart-complete:disabled,\n",
       "  .colab-df-quickchart-complete:disabled:hover {\n",
       "    background-color: var(--disabled-bg-color);\n",
       "    fill: var(--disabled-fill-color);\n",
       "    box-shadow: none;\n",
       "  }\n",
       "\n",
       "  .colab-df-spinner {\n",
       "    border: 2px solid var(--fill-color);\n",
       "    border-color: transparent;\n",
       "    border-bottom-color: var(--fill-color);\n",
       "    animation:\n",
       "      spin 1s steps(1) infinite;\n",
       "  }\n",
       "\n",
       "  @keyframes spin {\n",
       "    0% {\n",
       "      border-color: transparent;\n",
       "      border-bottom-color: var(--fill-color);\n",
       "      border-left-color: var(--fill-color);\n",
       "    }\n",
       "    20% {\n",
       "      border-color: transparent;\n",
       "      border-left-color: var(--fill-color);\n",
       "      border-top-color: var(--fill-color);\n",
       "    }\n",
       "    30% {\n",
       "      border-color: transparent;\n",
       "      border-left-color: var(--fill-color);\n",
       "      border-top-color: var(--fill-color);\n",
       "      border-right-color: var(--fill-color);\n",
       "    }\n",
       "    40% {\n",
       "      border-color: transparent;\n",
       "      border-right-color: var(--fill-color);\n",
       "      border-top-color: var(--fill-color);\n",
       "    }\n",
       "    60% {\n",
       "      border-color: transparent;\n",
       "      border-right-color: var(--fill-color);\n",
       "    }\n",
       "    80% {\n",
       "      border-color: transparent;\n",
       "      border-right-color: var(--fill-color);\n",
       "      border-bottom-color: var(--fill-color);\n",
       "    }\n",
       "    90% {\n",
       "      border-color: transparent;\n",
       "      border-bottom-color: var(--fill-color);\n",
       "    }\n",
       "  }\n",
       "</style>\n",
       "\n",
       "  <script>\n",
       "    async function quickchart(key) {\n",
       "      const quickchartButtonEl =\n",
       "        document.querySelector('#' + key + ' button');\n",
       "      quickchartButtonEl.disabled = true;  // To prevent multiple clicks.\n",
       "      quickchartButtonEl.classList.add('colab-df-spinner');\n",
       "      try {\n",
       "        const charts = await google.colab.kernel.invokeFunction(\n",
       "            'suggestCharts', [key], {});\n",
       "      } catch (error) {\n",
       "        console.error('Error during call to suggestCharts:', error);\n",
       "      }\n",
       "      quickchartButtonEl.classList.remove('colab-df-spinner');\n",
       "      quickchartButtonEl.classList.add('colab-df-quickchart-complete');\n",
       "    }\n",
       "    (() => {\n",
       "      let quickchartButtonEl =\n",
       "        document.querySelector('#df-af3b0f76-89bf-4f01-97dc-3e5e161a9189 button');\n",
       "      quickchartButtonEl.style.display =\n",
       "        google.colab.kernel.accessAllowed ? 'block' : 'none';\n",
       "    })();\n",
       "  </script>\n",
       "</div>\n",
       "    </div>\n",
       "  </div>\n"
      ],
      "text/plain": [
       "                                                   Effectif  Pourcentage (%)\n",
       "Age             1. <25                                 19.0              9.2\n",
       "                2. 26 - 35                             80.0             38.8\n",
       "                3. 36 - 45                             51.0             24.8\n",
       "                5. 46 - 55                             39.0             18.9\n",
       "                5. >56                                 17.0              8.3\n",
       "                Total                                 206.0            100.0\n",
       "Genre           Autre                                   6.0              2.9\n",
       "                F                                     102.0             50.0\n",
       "                H                                      96.0             47.1\n",
       "                Total                                 204.0            100.0\n",
       "Statut          Chercheur                              23.0             11.2\n",
       "                Doctorant                              45.0             21.8\n",
       "                Enseignant-chercheur                   39.0             18.9\n",
       "                Etudiant (jusqu'au master 2)           19.0              9.2\n",
       "                Ingénieur d'études                     45.0             21.8\n",
       "                Ingénieur de recherche                 18.0              8.7\n",
       "                Post-doctorant                         17.0              8.3\n",
       "                Total                                 206.0             99.9\n",
       "Type de contrat CDI de droit privé                     16.0              8.2\n",
       "                Non titulaire (CDD)                    84.0             42.9\n",
       "                Titulaire de la fonction publique      96.0             49.0\n",
       "                Total                                 196.0            100.1"
      ]
     },
     "execution_count": 20,
     "metadata": {},
     "output_type": "execute_result"
    }
   ],
   "source": [
    "pd.concat({\"Age\":pyshs.tri_a_plat(data,\"age\"),\n",
    " \"Genre\":pyshs.tri_a_plat(data,\"genre\"),\n",
    " \"Statut\":pyshs.tri_a_plat(data,\"statut\"),\n",
    " \"Type de contrat\":pyshs.tri_a_plat(data,\"contrat\"),\n",
    "          })"
   ]
  },
  {
   "cell_type": "markdown",
   "id": "c8364577",
   "metadata": {},
   "source": [
    "Remarque : certaines non-réponses font que les totaux varient"
   ]
  },
  {
   "cell_type": "markdown",
   "id": "857ec237",
   "metadata": {
    "id": "857ec237"
   },
   "source": [
    "### 3.2 Disciplines"
   ]
  },
  {
   "cell_type": "markdown",
   "id": "1766726a",
   "metadata": {},
   "source": [
    "Il peut y avoir plusieurs disciplines mentionnées par les répondants notamment sur les aspects interdisciplinaires, pour cette raison le pourcentage représente la proportion de répondants qui ont mentionnés au moins cette discipline."
   ]
  },
  {
   "cell_type": "code",
   "execution_count": null,
   "id": "cae94e7b",
   "metadata": {
    "id": "cae94e7b",
    "outputId": "bdc2f3d0-54d7-4662-f149-fd48386fcbcc"
   },
   "outputs": [
    {
     "data": {
      "text/plain": [
       "Histoire                  34.0\n",
       "Sociologie                27.2\n",
       "Linguistique              25.2\n",
       "Littérature               22.8\n",
       "Archéologie               15.5\n",
       "Anthropologie             10.2\n",
       "Géographie                 9.2\n",
       "Philosophie                9.2\n",
       "SIC                        7.8\n",
       "Psychologie                3.9\n",
       "Economie                   2.9\n",
       "Science politique          2.4\n",
       "Autre                      2.4\n",
       "Humanités numériques       1.9\n",
       "Droit                      0.5\n",
       "Démographie                0.5\n",
       "Informatique               0.5\n",
       "Urbanisme                  0.5\n",
       "Religion                   0.5\n",
       "Arts                       0.5\n",
       "Science de l’éducation     0.5\n",
       "dtype: float64"
      ]
     },
     "execution_count": 38,
     "metadata": {},
     "output_type": "execute_result"
    }
   ],
   "source": [
    "disciplines = set([j for i in list(data[\"disciplines\"]) for j in i])\n",
    "pd.Series(\n",
    "    {d:round(100*data[\"disciplines\"].apply(lambda x : True if d in x else False).sum()/len(data),1) for d in disciplines}\n",
    " ).sort_values(ascending=False)"
   ]
  },
  {
   "cell_type": "markdown",
   "id": "7073b2aa",
   "metadata": {
    "id": "7073b2aa"
   },
   "source": [
    "### 3.3 Langages de programmation utilisés"
   ]
  },
  {
   "cell_type": "markdown",
   "id": "6a7f3afd",
   "metadata": {},
   "source": [
    "Réponse à la question des langages de programmation utilisés"
   ]
  },
  {
   "cell_type": "code",
   "execution_count": 8,
   "id": "1d9b9458",
   "metadata": {
    "id": "1d9b9458",
    "outputId": "628f3884-33ba-435c-9045-fe2accfa1e2a"
   },
   "outputs": [
    {
     "data": {
      "text/plain": [
       "Python        61.1\n",
       "R             52.8\n",
       "SQL           43.1\n",
       "JavaScript    25.9\n",
       "Bash          23.6\n",
       "PHP           23.6\n",
       "Autre_lang    23.6\n",
       "Autre         14.8\n",
       "C             13.9\n",
       "Java          13.0\n",
       "Perl          10.6\n",
       "Pascal         4.2\n",
       "Rust           1.9\n",
       "Julia          0.9\n",
       "A+             0.0\n",
       "Swift          0.0\n",
       "dtype: float64"
      ]
     },
     "execution_count": 8,
     "metadata": {},
     "output_type": "execute_result"
    }
   ],
   "source": [
    "pd.Series(\n",
    "    {i.replace(\"prog_\",\"\"):round(100*len(data[i].dropna())/len(data),1) for i in data.columns if \"prog_\" in i}\n",
    ").sort_values(ascending=False)"
   ]
  },
  {
   "cell_type": "markdown",
   "id": "c3828323",
   "metadata": {},
   "source": [
    "D'autres langages ont été mentionnés dans \"Autre\" : Blaise, HTML, Ruby, SAS, XQUERY, OCAML, LISP, PROLOG, FORTRAN, CSL, SPSS, SCALA, STATA, SPARQL, MATLAB, SQL, XML, TypeScript, Elixir, LateX, Adélia, FISH, ..."
   ]
  },
  {
   "cell_type": "code",
   "execution_count": 15,
   "id": "5b7f7f85",
   "metadata": {},
   "outputs": [],
   "source": [
    "#list(data[\"prog_Autre_lang\"].dropna())"
   ]
  },
  {
   "cell_type": "markdown",
   "id": "3bf19384",
   "metadata": {
    "id": "3bf19384"
   },
   "source": [
    "### 3.4 Type de données utilisées\n",
    "\n",
    "(proportions)"
   ]
  },
  {
   "cell_type": "code",
   "execution_count": null,
   "id": "413a03c0",
   "metadata": {
    "id": "413a03c0",
    "outputId": "4a05103d-652c-41a6-d0a2-0e821d13ea65"
   },
   "outputs": [
    {
     "data": {
      "text/plain": [
       "donnees_Texte           92.2\n",
       "donnees_Numérique       47.6\n",
       "donnees_Image           38.3\n",
       "donnees_Géographique    22.8\n",
       "donnees_Son              9.7\n",
       "donnees_Vidéo            7.8\n",
       "donnees_autres           6.8\n",
       "dtype: float64"
      ]
     },
     "execution_count": 39,
     "metadata": {},
     "output_type": "execute_result"
    }
   ],
   "source": [
    "pd.Series(\n",
    "    {i:round(100*len(data[i].dropna())/len(data),1) for i in data.columns if \"donnees_\" in i}\n",
    "         ).sort_values(ascending=False)"
   ]
  },
  {
   "cell_type": "markdown",
   "id": "823e765c",
   "metadata": {
    "id": "823e765c"
   },
   "source": [
    "## 4 Analyse des résultats spécifiques à la programmation scientifique"
   ]
  },
  {
   "cell_type": "markdown",
   "id": "mnsTW3AcSeil",
   "metadata": {
    "id": "mnsTW3AcSeil"
   },
   "source": [
    "### 4.1 Programmation scientifique en sciences humaines et sociales"
   ]
  },
  {
   "cell_type": "markdown",
   "id": "98422ae0",
   "metadata": {},
   "source": [
    "La question \"Pensez-vous que l'usage de R ou Python (et plus généralement, la programmation scientifique) doit être développé dans la pratiques de recherche en SHS ?\" a été posée aux répondants connaissant R ou Python."
   ]
  },
  {
   "cell_type": "code",
   "execution_count": null,
   "id": "6253bb32",
   "metadata": {
    "id": "6253bb32",
    "outputId": "b9110496-fa04-4d8d-cd83-b549cc8c9f19",
    "scrolled": true
   },
   "outputs": [
    {
     "data": {
      "text/html": [
       "<div>\n",
       "<style scoped>\n",
       "    .dataframe tbody tr th:only-of-type {\n",
       "        vertical-align: middle;\n",
       "    }\n",
       "\n",
       "    .dataframe tbody tr th {\n",
       "        vertical-align: top;\n",
       "    }\n",
       "\n",
       "    .dataframe thead th {\n",
       "        text-align: right;\n",
       "    }\n",
       "</style>\n",
       "<table border=\"1\" class=\"dataframe\">\n",
       "  <thead>\n",
       "    <tr style=\"text-align: right;\">\n",
       "      <th></th>\n",
       "      <th>Effectif</th>\n",
       "      <th>Pourcentage (%)</th>\n",
       "    </tr>\n",
       "  </thead>\n",
       "  <tbody>\n",
       "    <tr>\n",
       "      <th>1-Non, pas du tout</th>\n",
       "      <td>4.0</td>\n",
       "      <td>2.1</td>\n",
       "    </tr>\n",
       "    <tr>\n",
       "      <th>2-Oui, plutôt</th>\n",
       "      <td>79.0</td>\n",
       "      <td>41.8</td>\n",
       "    </tr>\n",
       "    <tr>\n",
       "      <th>3-Oui, beaucoup</th>\n",
       "      <td>88.0</td>\n",
       "      <td>46.6</td>\n",
       "    </tr>\n",
       "    <tr>\n",
       "      <th>4-NSP</th>\n",
       "      <td>18.0</td>\n",
       "      <td>9.5</td>\n",
       "    </tr>\n",
       "    <tr>\n",
       "      <th>Total</th>\n",
       "      <td>189.0</td>\n",
       "      <td>100.0</td>\n",
       "    </tr>\n",
       "  </tbody>\n",
       "</table>\n",
       "</div>"
      ],
      "text/plain": [
       "                    Effectif  Pourcentage (%)\n",
       "1-Non, pas du tout       4.0              2.1\n",
       "2-Oui, plutôt           79.0             41.8\n",
       "3-Oui, beaucoup         88.0             46.6\n",
       "4-NSP                   18.0              9.5\n",
       "Total                  189.0            100.0"
      ]
     },
     "execution_count": 40,
     "metadata": {},
     "output_type": "execute_result"
    }
   ],
   "source": [
    "pyshs.tri_a_plat(data,\"progsci_shs\")"
   ]
  },
  {
   "cell_type": "markdown",
   "id": "10b2c9be",
   "metadata": {
    "id": "10b2c9be"
   },
   "source": [
    "### 4.2 Les usages de Python et R"
   ]
  },
  {
   "cell_type": "markdown",
   "id": "f944b8de",
   "metadata": {},
   "source": [
    "\"Avez-vous déjà entendu parler de ...\""
   ]
  },
  {
   "cell_type": "code",
   "execution_count": null,
   "id": "353069ea",
   "metadata": {
    "id": "353069ea",
    "outputId": "b3c28419-9c1a-4ba7-e24c-0a2ef7e70f5e"
   },
   "outputs": [
    {
     "data": {
      "text/html": [
       "<div>\n",
       "<style scoped>\n",
       "    .dataframe tbody tr th:only-of-type {\n",
       "        vertical-align: middle;\n",
       "    }\n",
       "\n",
       "    .dataframe tbody tr th {\n",
       "        vertical-align: top;\n",
       "    }\n",
       "\n",
       "    .dataframe thead tr th {\n",
       "        text-align: left;\n",
       "    }\n",
       "</style>\n",
       "<table border=\"1\" class=\"dataframe\">\n",
       "  <thead>\n",
       "    <tr>\n",
       "      <th></th>\n",
       "      <th colspan=\"2\" halign=\"left\">Entendu parler de Python</th>\n",
       "      <th colspan=\"2\" halign=\"left\">Entendu parler de R</th>\n",
       "    </tr>\n",
       "    <tr>\n",
       "      <th></th>\n",
       "      <th>Effectif</th>\n",
       "      <th>Pourcentage (%)</th>\n",
       "      <th>Effectif</th>\n",
       "      <th>Pourcentage (%)</th>\n",
       "    </tr>\n",
       "  </thead>\n",
       "  <tbody>\n",
       "    <tr>\n",
       "      <th>Non</th>\n",
       "      <td>7.0</td>\n",
       "      <td>3.4</td>\n",
       "      <td>15.0</td>\n",
       "      <td>7.3</td>\n",
       "    </tr>\n",
       "    <tr>\n",
       "      <th>Oui</th>\n",
       "      <td>199.0</td>\n",
       "      <td>96.6</td>\n",
       "      <td>191.0</td>\n",
       "      <td>92.7</td>\n",
       "    </tr>\n",
       "    <tr>\n",
       "      <th>Total</th>\n",
       "      <td>206.0</td>\n",
       "      <td>100.0</td>\n",
       "      <td>206.0</td>\n",
       "      <td>100.0</td>\n",
       "    </tr>\n",
       "  </tbody>\n",
       "</table>\n",
       "</div>"
      ],
      "text/plain": [
       "      Entendu parler de Python                 Entendu parler de R  \\\n",
       "                      Effectif Pourcentage (%)            Effectif   \n",
       "Non                        7.0             3.4                15.0   \n",
       "Oui                      199.0            96.6               191.0   \n",
       "Total                    206.0           100.0               206.0   \n",
       "\n",
       "                       \n",
       "      Pourcentage (%)  \n",
       "Non               7.3  \n",
       "Oui              92.7  \n",
       "Total           100.0  "
      ]
     },
     "execution_count": 41,
     "metadata": {},
     "output_type": "execute_result"
    }
   ],
   "source": [
    "pd.concat({\"Entendu parler de Python\":pyshs.tri_a_plat(data,\"entendu_python\"),\n",
    "\"Entendu parler de R\":pyshs.tri_a_plat(data,\"entendu_r\")},axis=1)"
   ]
  },
  {
   "cell_type": "markdown",
   "id": "56abc6ce",
   "metadata": {},
   "source": [
    "\"Quelle est votre familiarité avec.. ?\""
   ]
  },
  {
   "cell_type": "code",
   "execution_count": 28,
   "id": "84df52a0",
   "metadata": {
    "id": "84df52a0",
    "outputId": "c2b2fe08-bdf4-45b9-e8fe-82e637fec19f"
   },
   "outputs": [
    {
     "data": {
      "text/html": [
       "<div>\n",
       "<style scoped>\n",
       "    .dataframe tbody tr th:only-of-type {\n",
       "        vertical-align: middle;\n",
       "    }\n",
       "\n",
       "    .dataframe tbody tr th {\n",
       "        vertical-align: top;\n",
       "    }\n",
       "\n",
       "    .dataframe thead tr th {\n",
       "        text-align: left;\n",
       "    }\n",
       "</style>\n",
       "<table border=\"1\" class=\"dataframe\">\n",
       "  <thead>\n",
       "    <tr>\n",
       "      <th></th>\n",
       "      <th colspan=\"2\" halign=\"left\">Familiarité Python</th>\n",
       "      <th colspan=\"2\" halign=\"left\">Familiarité R</th>\n",
       "    </tr>\n",
       "    <tr>\n",
       "      <th></th>\n",
       "      <th>Effectif</th>\n",
       "      <th>Pourcentage (%)</th>\n",
       "      <th>Effectif</th>\n",
       "      <th>Pourcentage (%)</th>\n",
       "    </tr>\n",
       "  </thead>\n",
       "  <tbody>\n",
       "    <tr>\n",
       "      <th>1-entendu parlé</th>\n",
       "      <td>62.0</td>\n",
       "      <td>30.1</td>\n",
       "      <td>62.0</td>\n",
       "      <td>30.1</td>\n",
       "    </tr>\n",
       "    <tr>\n",
       "      <th>2-usage débutant</th>\n",
       "      <td>62.0</td>\n",
       "      <td>30.1</td>\n",
       "      <td>69.0</td>\n",
       "      <td>33.5</td>\n",
       "    </tr>\n",
       "    <tr>\n",
       "      <th>3-usage intermédiaire</th>\n",
       "      <td>47.0</td>\n",
       "      <td>22.8</td>\n",
       "      <td>42.0</td>\n",
       "      <td>20.4</td>\n",
       "    </tr>\n",
       "    <tr>\n",
       "      <th>4-usage avancé</th>\n",
       "      <td>28.0</td>\n",
       "      <td>13.6</td>\n",
       "      <td>17.0</td>\n",
       "      <td>8.3</td>\n",
       "    </tr>\n",
       "    <tr>\n",
       "      <th>NA</th>\n",
       "      <td>7.0</td>\n",
       "      <td>3.4</td>\n",
       "      <td>16.0</td>\n",
       "      <td>7.8</td>\n",
       "    </tr>\n",
       "    <tr>\n",
       "      <th>Total</th>\n",
       "      <td>206.0</td>\n",
       "      <td>100.0</td>\n",
       "      <td>206.0</td>\n",
       "      <td>100.1</td>\n",
       "    </tr>\n",
       "  </tbody>\n",
       "</table>\n",
       "</div>"
      ],
      "text/plain": [
       "                      Familiarité Python                 Familiarité R  \\\n",
       "                                Effectif Pourcentage (%)      Effectif   \n",
       "1-entendu parlé                     62.0            30.1          62.0   \n",
       "2-usage débutant                    62.0            30.1          69.0   \n",
       "3-usage intermédiaire               47.0            22.8          42.0   \n",
       "4-usage avancé                      28.0            13.6          17.0   \n",
       "NA                                   7.0             3.4          16.0   \n",
       "Total                              206.0           100.0         206.0   \n",
       "\n",
       "                                       \n",
       "                      Pourcentage (%)  \n",
       "1-entendu parlé                  30.1  \n",
       "2-usage débutant                 33.5  \n",
       "3-usage intermédiaire            20.4  \n",
       "4-usage avancé                    8.3  \n",
       "NA                                7.8  \n",
       "Total                           100.1  "
      ]
     },
     "execution_count": 28,
     "metadata": {},
     "output_type": "execute_result"
    }
   ],
   "source": [
    "pd.concat({\"Familiarité Python\":pyshs.tri_a_plat(data,\"familiarite_python\"),\n",
    "\"Familiarité R\":pyshs.tri_a_plat(data,\"familiarite_r\")},axis=1)"
   ]
  },
  {
   "cell_type": "markdown",
   "id": "3cf0f68b",
   "metadata": {},
   "source": [
    "Le rapport à R et Python apparaît comparable en termes de familiarité."
   ]
  },
  {
   "cell_type": "markdown",
   "id": "ee16173f",
   "metadata": {},
   "source": [
    "\"Comment situez-vous votre pratique sur une échelle de 1 à 10 (Légende : de 1 - grand débutant, à 10 - utilisateur avancé ou expert en passant par 5 - utilisateur autonome) ?\""
   ]
  },
  {
   "cell_type": "code",
   "execution_count": null,
   "id": "59f708b8",
   "metadata": {
    "id": "59f708b8",
    "outputId": "5d8b0087-b7de-4a0b-d55e-d7908645f249"
   },
   "outputs": [
    {
     "data": {
      "image/png": "[encoded data removed]",
      "text/plain": [
       "<Figure size 500x400 with 2 Axes>"
      ]
     },
     "metadata": {},
     "output_type": "display_data"
    }
   ],
   "source": [
    "fig,ax = plt.subplots(2,1,figsize=(5,4))\n",
    "data[\"niveau_python\"].value_counts().sort_index().plot(kind='bar',title=\"niveau python\",ax=ax[0])\n",
    "data[\"niveau_r\"].value_counts().sort_index().plot(kind='bar',title=\"niveau r\",ax=ax[1])\n",
    "plt.tight_layout()"
   ]
  },
  {
   "cell_type": "markdown",
   "id": "75e42259",
   "metadata": {},
   "source": [
    "Un niveau perçu d'usage de R plus homogène que Python parmi les répondants"
   ]
  },
  {
   "cell_type": "markdown",
   "id": "a39d1a81",
   "metadata": {
    "id": "a39d1a81"
   },
   "source": [
    "## 5 Focus sur les usages des carnets interactifs Jupyter"
   ]
  },
  {
   "cell_type": "markdown",
   "id": "0f2c84c7",
   "metadata": {
    "id": "0f2c84c7"
   },
   "source": [
    "### 5.1 Liste des questions posées :\n",
    "\n",
    "Cette enquête était l'opportunité de poser une série de questions sur les carnets interactifs utilisés de plus en plus par les chercheurs. Ces questions étaient les suivantes : \n",
    "\n",
    "- \"Connaissez-vous les Carnets interactifs (notebook) : par exemple Jupyter, Rmarkdown, Google Colab ? \": \"entendu_jupyter\"\n",
    "- \"Avez-vous déjà utilisé des Carnets interactifs (Jupyter ou Google Colab) ? \": \"usage_jupyter\"\n",
    "- \"Jupyter\": \"notebook_Jupyter\", \"Google Colab\": \"notebook_Google Colab\", \"Autre.1\": \"notebook_Autre.1\"\n",
    "- \"Quelle est votre familiarité avec les Carnets interactifs ?\": \"familiarite_notebook\"\n",
    "- \"Avez-vous déjà eu au moins une expérience de travail qui utilisait des Carnets interactifs ? \": \"experience_notebook\"\n",
    "- \"Comment situez-vous votre pratique  sur une échelle de 1 à 10: \"niveau_notebook\"\n",
    "- \"Pourriez-vous décrire votre expérience ? \": \"pratique_notebook\",\n",
    "- \"Nous sommes à la recherche d'exemples pour faciliter le partage de ces pratiques, donc si possible, indiquez le nom du / des projets ? .2\": \"exemple_notebook\"\n",
    "- \"Depuis combien de temps utilisez-vous des Carnets interactifs dans le cadre de vos travaux ?\": \"temps_notebook\"\n",
    "- \"Connaissez-vous ou collaborez-vous avec des collègues utilisant des Carnets interactifs dans le cadre de leurs recherches ?   \": \"collegue_notebook\"\n",
    "- \" Quels sont les principaux traitements que vous réalisez à l'aide des des Carnets interactifs dans le cadre de vos recherches ? : \"traitement_notebook\"\n",
    "- \"Quel(s) type(s) de solution(s) des Carnets interactifs vous utilisez (Google Colab, installation locale ou autre) ?   \": \"type_notebook\"\n",
    "- \"Quelles sont les ressources (formation en-ligne, cours en présentiel, manuels, tutoriels) que vous trouvez les plus utiles pour l'utilisation des Carnets interactifs pour conseiller à un collègue qui voudrait débuter ?\": \"ressources_notebook\""
   ]
  },
  {
   "cell_type": "markdown",
   "id": "2fa73131",
   "metadata": {},
   "source": [
    "### 5.2 Distribution des réponses"
   ]
  },
  {
   "cell_type": "markdown",
   "id": "b5b19d86",
   "metadata": {},
   "source": [
    "Cela permet de faire un point général sur la place des carnets interactifs parmi les acteurs des SHS computationnelles."
   ]
  },
  {
   "cell_type": "code",
   "execution_count": 7,
   "id": "a60fb8d8",
   "metadata": {
    "id": "a60fb8d8",
    "outputId": "1e043ad2-add7-4184-aaae-1fe955c2781e"
   },
   "outputs": [
    {
     "data": {
      "text/html": [
       "<div>\n",
       "<style scoped>\n",
       "    .dataframe tbody tr th:only-of-type {\n",
       "        vertical-align: middle;\n",
       "    }\n",
       "\n",
       "    .dataframe tbody tr th {\n",
       "        vertical-align: top;\n",
       "    }\n",
       "\n",
       "    .dataframe thead th {\n",
       "        text-align: right;\n",
       "    }\n",
       "</style>\n",
       "<table border=\"1\" class=\"dataframe\">\n",
       "  <thead>\n",
       "    <tr style=\"text-align: right;\">\n",
       "      <th></th>\n",
       "      <th></th>\n",
       "      <th>Effectif</th>\n",
       "      <th>Pourcentage (%)</th>\n",
       "    </tr>\n",
       "  </thead>\n",
       "  <tbody>\n",
       "    <tr>\n",
       "      <th rowspan=\"3\" valign=\"top\">Entendu parler des carnets interactifs</th>\n",
       "      <th>Non, je ne connais pas</th>\n",
       "      <td>56.0</td>\n",
       "      <td>27.2</td>\n",
       "    </tr>\n",
       "    <tr>\n",
       "      <th>Oui, je connais</th>\n",
       "      <td>150.0</td>\n",
       "      <td>72.8</td>\n",
       "    </tr>\n",
       "    <tr>\n",
       "      <th>Total</th>\n",
       "      <td>206.0</td>\n",
       "      <td>100.0</td>\n",
       "    </tr>\n",
       "    <tr>\n",
       "      <th rowspan=\"3\" valign=\"top\">Usage</th>\n",
       "      <th>Non</th>\n",
       "      <td>37.0</td>\n",
       "      <td>25.3</td>\n",
       "    </tr>\n",
       "    <tr>\n",
       "      <th>Oui</th>\n",
       "      <td>109.0</td>\n",
       "      <td>74.7</td>\n",
       "    </tr>\n",
       "    <tr>\n",
       "      <th>Total</th>\n",
       "      <td>146.0</td>\n",
       "      <td>100.0</td>\n",
       "    </tr>\n",
       "    <tr>\n",
       "      <th rowspan=\"4\" valign=\"top\">Usage depuis</th>\n",
       "      <th>0-3</th>\n",
       "      <td>96.0</td>\n",
       "      <td>72.7</td>\n",
       "    </tr>\n",
       "    <tr>\n",
       "      <th>3-5</th>\n",
       "      <td>23.0</td>\n",
       "      <td>17.4</td>\n",
       "    </tr>\n",
       "    <tr>\n",
       "      <th>5-10</th>\n",
       "      <td>13.0</td>\n",
       "      <td>9.8</td>\n",
       "    </tr>\n",
       "    <tr>\n",
       "      <th>Total</th>\n",
       "      <td>132.0</td>\n",
       "      <td>99.9</td>\n",
       "    </tr>\n",
       "    <tr>\n",
       "      <th rowspan=\"6\" valign=\"top\">Niveau de familiarité</th>\n",
       "      <th>1-entendu parlé</th>\n",
       "      <td>30.0</td>\n",
       "      <td>20.4</td>\n",
       "    </tr>\n",
       "    <tr>\n",
       "      <th>2-usage débutant</th>\n",
       "      <td>52.0</td>\n",
       "      <td>35.4</td>\n",
       "    </tr>\n",
       "    <tr>\n",
       "      <th>3-usage intermédiaire</th>\n",
       "      <td>41.0</td>\n",
       "      <td>27.9</td>\n",
       "    </tr>\n",
       "    <tr>\n",
       "      <th>4-usage avancé</th>\n",
       "      <td>23.0</td>\n",
       "      <td>15.6</td>\n",
       "    </tr>\n",
       "    <tr>\n",
       "      <th>NA</th>\n",
       "      <td>1.0</td>\n",
       "      <td>0.7</td>\n",
       "    </tr>\n",
       "    <tr>\n",
       "      <th>Total</th>\n",
       "      <td>147.0</td>\n",
       "      <td>100.0</td>\n",
       "    </tr>\n",
       "    <tr>\n",
       "      <th rowspan=\"4\" valign=\"top\">Vos collègues en utilisent</th>\n",
       "      <th>1-Non</th>\n",
       "      <td>35.0</td>\n",
       "      <td>25.4</td>\n",
       "    </tr>\n",
       "    <tr>\n",
       "      <th>2-Oui, beaucoup</th>\n",
       "      <td>27.0</td>\n",
       "      <td>19.6</td>\n",
       "    </tr>\n",
       "    <tr>\n",
       "      <th>2-Oui, quelques uns</th>\n",
       "      <td>76.0</td>\n",
       "      <td>55.1</td>\n",
       "    </tr>\n",
       "    <tr>\n",
       "      <th>Total</th>\n",
       "      <td>138.0</td>\n",
       "      <td>100.1</td>\n",
       "    </tr>\n",
       "  </tbody>\n",
       "</table>\n",
       "</div>"
      ],
      "text/plain": [
       "                                                               Effectif  \\\n",
       "Entendu parler des carnets interactifs Non, je ne connais pas      56.0   \n",
       "                                       Oui, je connais            150.0   \n",
       "                                       Total                      206.0   \n",
       "Usage                                  Non                         37.0   \n",
       "                                       Oui                        109.0   \n",
       "                                       Total                      146.0   \n",
       "Usage depuis                           0-3                         96.0   \n",
       "                                       3-5                         23.0   \n",
       "                                       5-10                        13.0   \n",
       "                                       Total                      132.0   \n",
       "Niveau de familiarité                  1-entendu parlé             30.0   \n",
       "                                       2-usage débutant            52.0   \n",
       "                                       3-usage intermédiaire       41.0   \n",
       "                                       4-usage avancé              23.0   \n",
       "                                       NA                           1.0   \n",
       "                                       Total                      147.0   \n",
       "Vos collègues en utilisent             1-Non                       35.0   \n",
       "                                       2-Oui, beaucoup             27.0   \n",
       "                                       2-Oui, quelques uns         76.0   \n",
       "                                       Total                      138.0   \n",
       "\n",
       "                                                               Pourcentage (%)  \n",
       "Entendu parler des carnets interactifs Non, je ne connais pas             27.2  \n",
       "                                       Oui, je connais                    72.8  \n",
       "                                       Total                             100.0  \n",
       "Usage                                  Non                                25.3  \n",
       "                                       Oui                                74.7  \n",
       "                                       Total                             100.0  \n",
       "Usage depuis                           0-3                                72.7  \n",
       "                                       3-5                                17.4  \n",
       "                                       5-10                                9.8  \n",
       "                                       Total                              99.9  \n",
       "Niveau de familiarité                  1-entendu parlé                    20.4  \n",
       "                                       2-usage débutant                   35.4  \n",
       "                                       3-usage intermédiaire              27.9  \n",
       "                                       4-usage avancé                     15.6  \n",
       "                                       NA                                  0.7  \n",
       "                                       Total                             100.0  \n",
       "Vos collègues en utilisent             1-Non                              25.4  \n",
       "                                       2-Oui, beaucoup                    19.6  \n",
       "                                       2-Oui, quelques uns                55.1  \n",
       "                                       Total                             100.1  "
      ]
     },
     "execution_count": 7,
     "metadata": {},
     "output_type": "execute_result"
    }
   ],
   "source": [
    "pd.concat({\"Entendu parler des carnets interactifs\":pyshs.tri_a_plat(data,\"entendu_jupyter\"),\n",
    " \"Usage\":pyshs.tri_a_plat(data,\"usage_jupyter\"),\n",
    " \"Usage depuis\":pyshs.tri_a_plat(data,\"temps_notebook\"),\n",
    " \"Niveau de familiarité\":pyshs.tri_a_plat(data,\"familiarite_notebook\"),\n",
    " \"Vos collègues en utilisent\":pyshs.tri_a_plat(data,\"collegue_notebook\"),\n",
    " })"
   ]
  },
  {
   "cell_type": "markdown",
   "id": "e0310d59",
   "metadata": {},
   "source": [
    "La grande majorité des répondants ont connaissance des notebooks et des collègues qui les utilisent, et parmi ceux qui connaissent les trois quart les utilisent. Seule une petite proportion des répondants disent avoir un usage avancé (23 sur 206). "
   ]
  },
  {
   "cell_type": "code",
   "execution_count": 10,
   "id": "ee270348",
   "metadata": {
    "id": "ee270348",
    "outputId": "8ed41e8f-74c6-43a5-f804-3f439f777cd1"
   },
   "outputs": [
    {
     "data": {
      "text/html": [
       "<div>\n",
       "<style scoped>\n",
       "    .dataframe tbody tr th:only-of-type {\n",
       "        vertical-align: middle;\n",
       "    }\n",
       "\n",
       "    .dataframe tbody tr th {\n",
       "        vertical-align: top;\n",
       "    }\n",
       "\n",
       "    .dataframe thead tr th {\n",
       "        text-align: left;\n",
       "    }\n",
       "</style>\n",
       "<table border=\"1\" class=\"dataframe\">\n",
       "  <thead>\n",
       "    <tr>\n",
       "      <th></th>\n",
       "      <th colspan=\"2\" halign=\"left\">Jupyter</th>\n",
       "      <th colspan=\"2\" halign=\"left\">Colab</th>\n",
       "      <th colspan=\"2\" halign=\"left\">Autre</th>\n",
       "    </tr>\n",
       "    <tr>\n",
       "      <th></th>\n",
       "      <th>Effectif</th>\n",
       "      <th>Pourcentage (%)</th>\n",
       "      <th>Effectif</th>\n",
       "      <th>Pourcentage (%)</th>\n",
       "      <th>Effectif</th>\n",
       "      <th>Pourcentage (%)</th>\n",
       "    </tr>\n",
       "  </thead>\n",
       "  <tbody>\n",
       "    <tr>\n",
       "      <th>NA</th>\n",
       "      <td>103.0</td>\n",
       "      <td>50.0</td>\n",
       "      <td>156.0</td>\n",
       "      <td>75.7</td>\n",
       "      <td>177.0</td>\n",
       "      <td>85.9</td>\n",
       "    </tr>\n",
       "    <tr>\n",
       "      <th>X</th>\n",
       "      <td>103.0</td>\n",
       "      <td>50.0</td>\n",
       "      <td>50.0</td>\n",
       "      <td>24.3</td>\n",
       "      <td>29.0</td>\n",
       "      <td>14.1</td>\n",
       "    </tr>\n",
       "    <tr>\n",
       "      <th>Total</th>\n",
       "      <td>206.0</td>\n",
       "      <td>100.0</td>\n",
       "      <td>206.0</td>\n",
       "      <td>100.0</td>\n",
       "      <td>206.0</td>\n",
       "      <td>100.0</td>\n",
       "    </tr>\n",
       "  </tbody>\n",
       "</table>\n",
       "</div>"
      ],
      "text/plain": [
       "       Jupyter                    Colab                    Autre  \\\n",
       "      Effectif Pourcentage (%) Effectif Pourcentage (%) Effectif   \n",
       "NA       103.0            50.0    156.0            75.7    177.0   \n",
       "X        103.0            50.0     50.0            24.3     29.0   \n",
       "Total    206.0           100.0    206.0           100.0    206.0   \n",
       "\n",
       "                       \n",
       "      Pourcentage (%)  \n",
       "NA               85.9  \n",
       "X                14.1  \n",
       "Total           100.0  "
      ]
     },
     "execution_count": 10,
     "metadata": {},
     "output_type": "execute_result"
    }
   ],
   "source": [
    "pd.concat({\"Jupyter\":pyshs.tri_a_plat(data.fillna(\"NA\"),\"notebook_Jupyter\"),\n",
    "\"Colab\":pyshs.tri_a_plat(data.fillna(\"NA\"),\"notebook_Google Colab\"),\n",
    "\"Autre\":pyshs.tri_a_plat(data.fillna(\"NA\"), \"notebook_Autre.1\")},axis=1)"
   ]
  },
  {
   "cell_type": "markdown",
   "id": "cb7cc7e8",
   "metadata": {},
   "source": [
    "Les carnets Jupyter sont les plus utilisés (50% des répondants)."
   ]
  },
  {
   "cell_type": "markdown",
   "id": "be961309",
   "metadata": {
    "id": "be961309"
   },
   "source": [
    "### 5.3 Relation avec les caractéristiques des répondants"
   ]
  },
  {
   "cell_type": "markdown",
   "id": "f7fbc2a8",
   "metadata": {},
   "source": [
    "#### Analyse bivariée"
   ]
  },
  {
   "cell_type": "markdown",
   "id": "00c8ff01",
   "metadata": {},
   "source": [
    "Nous testons la relation entre la pratique des carnets et les variables socio-professionnelles collectées"
   ]
  },
  {
   "cell_type": "code",
   "execution_count": 31,
   "id": "3666090d",
   "metadata": {
    "id": "3666090d",
    "outputId": "13079316-db6e-4395-a81e-10353253e2e6"
   },
   "outputs": [
    {
     "name": "stdout",
     "output_type": "stream",
     "text": [
      "Pas de relation statistiquement significative entre l'usage et l'âge (p=0.281623)\n"
     ]
    },
    {
     "data": {
      "text/html": [
       "<div>\n",
       "<style scoped>\n",
       "    .dataframe tbody tr th:only-of-type {\n",
       "        vertical-align: middle;\n",
       "    }\n",
       "\n",
       "    .dataframe tbody tr th {\n",
       "        vertical-align: top;\n",
       "    }\n",
       "\n",
       "    .dataframe thead th {\n",
       "        text-align: right;\n",
       "    }\n",
       "</style>\n",
       "<table border=\"1\" class=\"dataframe\">\n",
       "  <thead>\n",
       "    <tr style=\"text-align: right;\">\n",
       "      <th>familiarite_notebook</th>\n",
       "      <th>1-entendu parlé</th>\n",
       "      <th>2-usage débutant</th>\n",
       "      <th>3-usage intermédiaire</th>\n",
       "      <th>4-usage avancé</th>\n",
       "      <th>NA</th>\n",
       "      <th>Total</th>\n",
       "    </tr>\n",
       "    <tr>\n",
       "      <th>age</th>\n",
       "      <th></th>\n",
       "      <th></th>\n",
       "      <th></th>\n",
       "      <th></th>\n",
       "      <th></th>\n",
       "      <th></th>\n",
       "    </tr>\n",
       "  </thead>\n",
       "  <tbody>\n",
       "    <tr>\n",
       "      <th>1. &lt;25</th>\n",
       "      <td>2.0 (11.8%)</td>\n",
       "      <td>4.0 (23.5%)</td>\n",
       "      <td>9.0 (52.9%)</td>\n",
       "      <td>2.0 (11.8%)</td>\n",
       "      <td>0.0 (0.0%)</td>\n",
       "      <td>17 (100%)</td>\n",
       "    </tr>\n",
       "    <tr>\n",
       "      <th>2. 26 - 35</th>\n",
       "      <td>14.0 (23.0%)</td>\n",
       "      <td>23.0 (37.7%)</td>\n",
       "      <td>14.0 (23.0%)</td>\n",
       "      <td>10.0 (16.4%)</td>\n",
       "      <td>0.0 (0.0%)</td>\n",
       "      <td>61 (100%)</td>\n",
       "    </tr>\n",
       "    <tr>\n",
       "      <th>3. 36 - 45</th>\n",
       "      <td>6.0 (17.1%)</td>\n",
       "      <td>10.0 (28.6%)</td>\n",
       "      <td>10.0 (28.6%)</td>\n",
       "      <td>9.0 (25.7%)</td>\n",
       "      <td>0.0 (0.0%)</td>\n",
       "      <td>35 (100%)</td>\n",
       "    </tr>\n",
       "    <tr>\n",
       "      <th>5. 46 - 55</th>\n",
       "      <td>6.0 (20.7%)</td>\n",
       "      <td>14.0 (48.3%)</td>\n",
       "      <td>6.0 (20.7%)</td>\n",
       "      <td>2.0 (6.9%)</td>\n",
       "      <td>1.0 (3.4%)</td>\n",
       "      <td>29 (100%)</td>\n",
       "    </tr>\n",
       "    <tr>\n",
       "      <th>5. &gt;56</th>\n",
       "      <td>2.0 (40.0%)</td>\n",
       "      <td>1.0 (20.0%)</td>\n",
       "      <td>2.0 (40.0%)</td>\n",
       "      <td>0.0 (0.0%)</td>\n",
       "      <td>0.0 (0.0%)</td>\n",
       "      <td>5 (100%)</td>\n",
       "    </tr>\n",
       "    <tr>\n",
       "      <th>Total</th>\n",
       "      <td>30.0 (20.4%)</td>\n",
       "      <td>52.0 (35.4%)</td>\n",
       "      <td>41.0 (27.9%)</td>\n",
       "      <td>23.0 (15.6%)</td>\n",
       "      <td>1.0 (0.7%)</td>\n",
       "      <td>147 (100%)</td>\n",
       "    </tr>\n",
       "  </tbody>\n",
       "</table>\n",
       "</div>"
      ],
      "text/plain": [
       "familiarite_notebook 1-entendu parlé 2-usage débutant 3-usage intermédiaire  \\\n",
       "age                                                                           \n",
       "1. <25                   2.0 (11.8%)      4.0 (23.5%)           9.0 (52.9%)   \n",
       "2. 26 - 35              14.0 (23.0%)     23.0 (37.7%)          14.0 (23.0%)   \n",
       "3. 36 - 45               6.0 (17.1%)     10.0 (28.6%)          10.0 (28.6%)   \n",
       "5. 46 - 55               6.0 (20.7%)     14.0 (48.3%)           6.0 (20.7%)   \n",
       "5. >56                   2.0 (40.0%)      1.0 (20.0%)           2.0 (40.0%)   \n",
       "Total                   30.0 (20.4%)     52.0 (35.4%)          41.0 (27.9%)   \n",
       "\n",
       "familiarite_notebook 4-usage avancé          NA       Total  \n",
       "age                                                          \n",
       "1. <25                  2.0 (11.8%)  0.0 (0.0%)   17 (100%)  \n",
       "2. 26 - 35             10.0 (16.4%)  0.0 (0.0%)   61 (100%)  \n",
       "3. 36 - 45              9.0 (25.7%)  0.0 (0.0%)   35 (100%)  \n",
       "5. 46 - 55               2.0 (6.9%)  1.0 (3.4%)   29 (100%)  \n",
       "5. >56                   0.0 (0.0%)  0.0 (0.0%)    5 (100%)  \n",
       "Total                  23.0 (15.6%)  1.0 (0.7%)  147 (100%)  "
      ]
     },
     "execution_count": 31,
     "metadata": {},
     "output_type": "execute_result"
    }
   ],
   "source": [
    "t,p = pyshs.tableau_croise(data,\"age\",\"familiarite_notebook\",p=True)\n",
    "print(\"Pas de relation statistiquement significative entre l'usage et l'âge (p=%f)\"%p)\n",
    "t"
   ]
  },
  {
   "cell_type": "markdown",
   "id": "63292cf9",
   "metadata": {},
   "source": [
    "Toutefois on observe un faible usage avancé pour les répondants les plus âgés, pointant un potentiel effet générationnel."
   ]
  },
  {
   "cell_type": "code",
   "execution_count": 33,
   "id": "1cdd5e7f",
   "metadata": {},
   "outputs": [
    {
     "name": "stdout",
     "output_type": "stream",
     "text": [
      "Pas de relation statistiquement significative entre l'usage et le genre (p=0.591719)\n"
     ]
    },
    {
     "data": {
      "text/html": [
       "<div>\n",
       "<style scoped>\n",
       "    .dataframe tbody tr th:only-of-type {\n",
       "        vertical-align: middle;\n",
       "    }\n",
       "\n",
       "    .dataframe tbody tr th {\n",
       "        vertical-align: top;\n",
       "    }\n",
       "\n",
       "    .dataframe thead th {\n",
       "        text-align: right;\n",
       "    }\n",
       "</style>\n",
       "<table border=\"1\" class=\"dataframe\">\n",
       "  <thead>\n",
       "    <tr style=\"text-align: right;\">\n",
       "      <th>familiarite_notebook</th>\n",
       "      <th>1-entendu parlé</th>\n",
       "      <th>2-usage débutant</th>\n",
       "      <th>3-usage intermédiaire</th>\n",
       "      <th>4-usage avancé</th>\n",
       "      <th>NA</th>\n",
       "      <th>Total</th>\n",
       "    </tr>\n",
       "    <tr>\n",
       "      <th>genre</th>\n",
       "      <th></th>\n",
       "      <th></th>\n",
       "      <th></th>\n",
       "      <th></th>\n",
       "      <th></th>\n",
       "      <th></th>\n",
       "    </tr>\n",
       "  </thead>\n",
       "  <tbody>\n",
       "    <tr>\n",
       "      <th>Autre</th>\n",
       "      <td>0.0 (0.0%)</td>\n",
       "      <td>4.0 (66.7%)</td>\n",
       "      <td>1.0 (16.7%)</td>\n",
       "      <td>1.0 (16.7%)</td>\n",
       "      <td>0.0 (0.0%)</td>\n",
       "      <td>6 (100%)</td>\n",
       "    </tr>\n",
       "    <tr>\n",
       "      <th>F</th>\n",
       "      <td>15.0 (23.8%)</td>\n",
       "      <td>24.0 (38.1%)</td>\n",
       "      <td>17.0 (27.0%)</td>\n",
       "      <td>7.0 (11.1%)</td>\n",
       "      <td>0.0 (0.0%)</td>\n",
       "      <td>63 (100%)</td>\n",
       "    </tr>\n",
       "    <tr>\n",
       "      <th>H</th>\n",
       "      <td>15.0 (19.5%)</td>\n",
       "      <td>24.0 (31.2%)</td>\n",
       "      <td>22.0 (28.6%)</td>\n",
       "      <td>15.0 (19.5%)</td>\n",
       "      <td>1.0 (1.3%)</td>\n",
       "      <td>77 (100%)</td>\n",
       "    </tr>\n",
       "    <tr>\n",
       "      <th>Total</th>\n",
       "      <td>30.0 (20.5%)</td>\n",
       "      <td>52.0 (35.6%)</td>\n",
       "      <td>40.0 (27.4%)</td>\n",
       "      <td>23.0 (15.8%)</td>\n",
       "      <td>1.0 (0.7%)</td>\n",
       "      <td>146 (100%)</td>\n",
       "    </tr>\n",
       "  </tbody>\n",
       "</table>\n",
       "</div>"
      ],
      "text/plain": [
       "familiarite_notebook 1-entendu parlé 2-usage débutant 3-usage intermédiaire  \\\n",
       "genre                                                                         \n",
       "Autre                     0.0 (0.0%)      4.0 (66.7%)           1.0 (16.7%)   \n",
       "F                       15.0 (23.8%)     24.0 (38.1%)          17.0 (27.0%)   \n",
       "H                       15.0 (19.5%)     24.0 (31.2%)          22.0 (28.6%)   \n",
       "Total                   30.0 (20.5%)     52.0 (35.6%)          40.0 (27.4%)   \n",
       "\n",
       "familiarite_notebook 4-usage avancé          NA       Total  \n",
       "genre                                                        \n",
       "Autre                   1.0 (16.7%)  0.0 (0.0%)    6 (100%)  \n",
       "F                       7.0 (11.1%)  0.0 (0.0%)   63 (100%)  \n",
       "H                      15.0 (19.5%)  1.0 (1.3%)   77 (100%)  \n",
       "Total                  23.0 (15.8%)  1.0 (0.7%)  146 (100%)  "
      ]
     },
     "execution_count": 33,
     "metadata": {},
     "output_type": "execute_result"
    }
   ],
   "source": [
    "t,p = pyshs.tableau_croise(data,\"genre\",\"familiarite_notebook\",p=True)\n",
    "print(\"Pas de relation statistiquement significative entre l'usage et le genre (p=%f)\"%p)\n",
    "t"
   ]
  },
  {
   "cell_type": "code",
   "execution_count": 34,
   "id": "1953d1a2",
   "metadata": {},
   "outputs": [
    {
     "name": "stdout",
     "output_type": "stream",
     "text": [
      "Pas de relation statistiquement significative entre l'usage et le statut (p=0.993892)\n"
     ]
    },
    {
     "data": {
      "text/html": [
       "<div>\n",
       "<style scoped>\n",
       "    .dataframe tbody tr th:only-of-type {\n",
       "        vertical-align: middle;\n",
       "    }\n",
       "\n",
       "    .dataframe tbody tr th {\n",
       "        vertical-align: top;\n",
       "    }\n",
       "\n",
       "    .dataframe thead th {\n",
       "        text-align: right;\n",
       "    }\n",
       "</style>\n",
       "<table border=\"1\" class=\"dataframe\">\n",
       "  <thead>\n",
       "    <tr style=\"text-align: right;\">\n",
       "      <th>familiarite_notebook</th>\n",
       "      <th>1-entendu parlé</th>\n",
       "      <th>2-usage débutant</th>\n",
       "      <th>3-usage intermédiaire</th>\n",
       "      <th>4-usage avancé</th>\n",
       "      <th>NA</th>\n",
       "      <th>Total</th>\n",
       "    </tr>\n",
       "    <tr>\n",
       "      <th>statut</th>\n",
       "      <th></th>\n",
       "      <th></th>\n",
       "      <th></th>\n",
       "      <th></th>\n",
       "      <th></th>\n",
       "      <th></th>\n",
       "    </tr>\n",
       "  </thead>\n",
       "  <tbody>\n",
       "    <tr>\n",
       "      <th>Chercheur</th>\n",
       "      <td>3.0 (21.4%)</td>\n",
       "      <td>3.0 (21.4%)</td>\n",
       "      <td>5.0 (35.7%)</td>\n",
       "      <td>3.0 (21.4%)</td>\n",
       "      <td>0.0 (0.0%)</td>\n",
       "      <td>14 (100%)</td>\n",
       "    </tr>\n",
       "    <tr>\n",
       "      <th>Doctorant</th>\n",
       "      <td>6.0 (20.0%)</td>\n",
       "      <td>10.0 (33.3%)</td>\n",
       "      <td>9.0 (30.0%)</td>\n",
       "      <td>5.0 (16.7%)</td>\n",
       "      <td>0.0 (0.0%)</td>\n",
       "      <td>30 (100%)</td>\n",
       "    </tr>\n",
       "    <tr>\n",
       "      <th>Enseignant-chercheur</th>\n",
       "      <td>5.0 (17.9%)</td>\n",
       "      <td>9.0 (32.1%)</td>\n",
       "      <td>8.0 (28.6%)</td>\n",
       "      <td>6.0 (21.4%)</td>\n",
       "      <td>0.0 (0.0%)</td>\n",
       "      <td>28 (100%)</td>\n",
       "    </tr>\n",
       "    <tr>\n",
       "      <th>Etudiant (jusqu'au master 2)</th>\n",
       "      <td>2.0 (13.3%)</td>\n",
       "      <td>7.0 (46.7%)</td>\n",
       "      <td>5.0 (33.3%)</td>\n",
       "      <td>1.0 (6.7%)</td>\n",
       "      <td>0.0 (0.0%)</td>\n",
       "      <td>15 (100%)</td>\n",
       "    </tr>\n",
       "    <tr>\n",
       "      <th>Ingénieur d'études</th>\n",
       "      <td>7.0 (20.0%)</td>\n",
       "      <td>15.0 (42.9%)</td>\n",
       "      <td>8.0 (22.9%)</td>\n",
       "      <td>4.0 (11.4%)</td>\n",
       "      <td>1.0 (2.9%)</td>\n",
       "      <td>35 (100%)</td>\n",
       "    </tr>\n",
       "    <tr>\n",
       "      <th>Ingénieur de recherche</th>\n",
       "      <td>4.0 (26.7%)</td>\n",
       "      <td>5.0 (33.3%)</td>\n",
       "      <td>3.0 (20.0%)</td>\n",
       "      <td>3.0 (20.0%)</td>\n",
       "      <td>0.0 (0.0%)</td>\n",
       "      <td>15 (100%)</td>\n",
       "    </tr>\n",
       "    <tr>\n",
       "      <th>Post-doctorant</th>\n",
       "      <td>3.0 (30.0%)</td>\n",
       "      <td>3.0 (30.0%)</td>\n",
       "      <td>3.0 (30.0%)</td>\n",
       "      <td>1.0 (10.0%)</td>\n",
       "      <td>0.0 (0.0%)</td>\n",
       "      <td>10 (100%)</td>\n",
       "    </tr>\n",
       "    <tr>\n",
       "      <th>Total</th>\n",
       "      <td>30.0 (20.4%)</td>\n",
       "      <td>52.0 (35.4%)</td>\n",
       "      <td>41.0 (27.9%)</td>\n",
       "      <td>23.0 (15.6%)</td>\n",
       "      <td>1.0 (0.7%)</td>\n",
       "      <td>147 (100%)</td>\n",
       "    </tr>\n",
       "  </tbody>\n",
       "</table>\n",
       "</div>"
      ],
      "text/plain": [
       "familiarite_notebook         1-entendu parlé 2-usage débutant  \\\n",
       "statut                                                          \n",
       "Chercheur                        3.0 (21.4%)      3.0 (21.4%)   \n",
       "Doctorant                        6.0 (20.0%)     10.0 (33.3%)   \n",
       "Enseignant-chercheur             5.0 (17.9%)      9.0 (32.1%)   \n",
       "Etudiant (jusqu'au master 2)     2.0 (13.3%)      7.0 (46.7%)   \n",
       "Ingénieur d'études               7.0 (20.0%)     15.0 (42.9%)   \n",
       "Ingénieur de recherche           4.0 (26.7%)      5.0 (33.3%)   \n",
       "Post-doctorant                   3.0 (30.0%)      3.0 (30.0%)   \n",
       "Total                           30.0 (20.4%)     52.0 (35.4%)   \n",
       "\n",
       "familiarite_notebook         3-usage intermédiaire 4-usage avancé          NA  \\\n",
       "statut                                                                          \n",
       "Chercheur                              5.0 (35.7%)    3.0 (21.4%)  0.0 (0.0%)   \n",
       "Doctorant                              9.0 (30.0%)    5.0 (16.7%)  0.0 (0.0%)   \n",
       "Enseignant-chercheur                   8.0 (28.6%)    6.0 (21.4%)  0.0 (0.0%)   \n",
       "Etudiant (jusqu'au master 2)           5.0 (33.3%)     1.0 (6.7%)  0.0 (0.0%)   \n",
       "Ingénieur d'études                     8.0 (22.9%)    4.0 (11.4%)  1.0 (2.9%)   \n",
       "Ingénieur de recherche                 3.0 (20.0%)    3.0 (20.0%)  0.0 (0.0%)   \n",
       "Post-doctorant                         3.0 (30.0%)    1.0 (10.0%)  0.0 (0.0%)   \n",
       "Total                                 41.0 (27.9%)   23.0 (15.6%)  1.0 (0.7%)   \n",
       "\n",
       "familiarite_notebook               Total  \n",
       "statut                                    \n",
       "Chercheur                      14 (100%)  \n",
       "Doctorant                      30 (100%)  \n",
       "Enseignant-chercheur           28 (100%)  \n",
       "Etudiant (jusqu'au master 2)   15 (100%)  \n",
       "Ingénieur d'études             35 (100%)  \n",
       "Ingénieur de recherche         15 (100%)  \n",
       "Post-doctorant                 10 (100%)  \n",
       "Total                         147 (100%)  "
      ]
     },
     "execution_count": 34,
     "metadata": {},
     "output_type": "execute_result"
    }
   ],
   "source": [
    "t,p = pyshs.tableau_croise(data,\"statut\",\"familiarite_notebook\",p=True)\n",
    "print(\"Pas de relation statistiquement significative entre l'usage et le statut (p=%f)\"%p)\n",
    "t"
   ]
  },
  {
   "cell_type": "code",
   "execution_count": 35,
   "id": "58ce326d",
   "metadata": {},
   "outputs": [
    {
     "name": "stdout",
     "output_type": "stream",
     "text": [
      "Pas de relation statistiquement significative entre l'usage et le statut (p=0.523708)\n"
     ]
    },
    {
     "data": {
      "text/html": [
       "<div>\n",
       "<style scoped>\n",
       "    .dataframe tbody tr th:only-of-type {\n",
       "        vertical-align: middle;\n",
       "    }\n",
       "\n",
       "    .dataframe tbody tr th {\n",
       "        vertical-align: top;\n",
       "    }\n",
       "\n",
       "    .dataframe thead th {\n",
       "        text-align: right;\n",
       "    }\n",
       "</style>\n",
       "<table border=\"1\" class=\"dataframe\">\n",
       "  <thead>\n",
       "    <tr style=\"text-align: right;\">\n",
       "      <th>familiarite_notebook</th>\n",
       "      <th>1-entendu parlé</th>\n",
       "      <th>2-usage débutant</th>\n",
       "      <th>3-usage intermédiaire</th>\n",
       "      <th>4-usage avancé</th>\n",
       "      <th>NA</th>\n",
       "      <th>Total</th>\n",
       "    </tr>\n",
       "    <tr>\n",
       "      <th>contrat</th>\n",
       "      <th></th>\n",
       "      <th></th>\n",
       "      <th></th>\n",
       "      <th></th>\n",
       "      <th></th>\n",
       "      <th></th>\n",
       "    </tr>\n",
       "  </thead>\n",
       "  <tbody>\n",
       "    <tr>\n",
       "      <th>CDI de droit privé</th>\n",
       "      <td>5.0 (45.5%)</td>\n",
       "      <td>2.0 (18.2%)</td>\n",
       "      <td>2.0 (18.2%)</td>\n",
       "      <td>2.0 (18.2%)</td>\n",
       "      <td>0.0 (0.0%)</td>\n",
       "      <td>11 (100%)</td>\n",
       "    </tr>\n",
       "    <tr>\n",
       "      <th>Non titulaire (CDD)</th>\n",
       "      <td>11.0 (17.7%)</td>\n",
       "      <td>21.0 (33.9%)</td>\n",
       "      <td>20.0 (32.3%)</td>\n",
       "      <td>10.0 (16.1%)</td>\n",
       "      <td>0.0 (0.0%)</td>\n",
       "      <td>62 (100%)</td>\n",
       "    </tr>\n",
       "    <tr>\n",
       "      <th>Titulaire de la fonction publique</th>\n",
       "      <td>12.0 (18.2%)</td>\n",
       "      <td>26.0 (39.4%)</td>\n",
       "      <td>18.0 (27.3%)</td>\n",
       "      <td>9.0 (13.6%)</td>\n",
       "      <td>1.0 (1.5%)</td>\n",
       "      <td>66 (100%)</td>\n",
       "    </tr>\n",
       "    <tr>\n",
       "      <th>Total</th>\n",
       "      <td>28.0 (20.1%)</td>\n",
       "      <td>49.0 (35.3%)</td>\n",
       "      <td>40.0 (28.8%)</td>\n",
       "      <td>21.0 (15.1%)</td>\n",
       "      <td>1.0 (0.7%)</td>\n",
       "      <td>139 (100%)</td>\n",
       "    </tr>\n",
       "  </tbody>\n",
       "</table>\n",
       "</div>"
      ],
      "text/plain": [
       "familiarite_notebook              1-entendu parlé 2-usage débutant  \\\n",
       "contrat                                                              \n",
       "CDI de droit privé                    5.0 (45.5%)      2.0 (18.2%)   \n",
       "Non titulaire (CDD)                  11.0 (17.7%)     21.0 (33.9%)   \n",
       "Titulaire de la fonction publique    12.0 (18.2%)     26.0 (39.4%)   \n",
       "Total                                28.0 (20.1%)     49.0 (35.3%)   \n",
       "\n",
       "familiarite_notebook              3-usage intermédiaire 4-usage avancé  \\\n",
       "contrat                                                                  \n",
       "CDI de droit privé                          2.0 (18.2%)    2.0 (18.2%)   \n",
       "Non titulaire (CDD)                        20.0 (32.3%)   10.0 (16.1%)   \n",
       "Titulaire de la fonction publique          18.0 (27.3%)    9.0 (13.6%)   \n",
       "Total                                      40.0 (28.8%)   21.0 (15.1%)   \n",
       "\n",
       "familiarite_notebook                       NA       Total  \n",
       "contrat                                                    \n",
       "CDI de droit privé                 0.0 (0.0%)   11 (100%)  \n",
       "Non titulaire (CDD)                0.0 (0.0%)   62 (100%)  \n",
       "Titulaire de la fonction publique  1.0 (1.5%)   66 (100%)  \n",
       "Total                              1.0 (0.7%)  139 (100%)  "
      ]
     },
     "execution_count": 35,
     "metadata": {},
     "output_type": "execute_result"
    }
   ],
   "source": [
    "t,p = pyshs.tableau_croise(data,\"contrat\",\"familiarite_notebook\",p=True)\n",
    "print(\"Pas de relation statistiquement significative entre l'usage et le statut (p=%f)\"%p)\n",
    "t"
   ]
  },
  {
   "cell_type": "markdown",
   "id": "8c025696",
   "metadata": {},
   "source": [
    "Tester chaque disciplines vs. les autres pour voir s'il existe une différence significative dans l'usage des carnets"
   ]
  },
  {
   "cell_type": "code",
   "execution_count": 21,
   "id": "fa840a94",
   "metadata": {},
   "outputs": [
    {
     "name": "stdout",
     "output_type": "stream",
     "text": [
      "Sociologie 0.7585\n",
      "Urbanisme 1.0\n",
      "Démographie 0.6263\n",
      "Archéologie 0.0287\n",
      "Arts 1.0\n",
      "Science de l’éducation 0.416\n",
      "Littérature 0.3891\n",
      "Anthropologie 0.9531\n",
      "Philosophie 0.0447\n",
      "Linguistique 0.001\n",
      "Droit 0.7653\n",
      "Religion 0.416\n",
      "Science politique 0.9493\n",
      "Informatique 0.416\n",
      "Géographie 0.7887\n",
      "Histoire 0.3344\n",
      "Economie 0.0894\n",
      "Humanités numériques 0.7463\n",
      "SIC 0.9531\n",
      "Psychologie 0.7969\n",
      "Autre 0.4487\n"
     ]
    }
   ],
   "source": [
    "disciplines = set([j for i in list(data[\"disciplines\"]) for j in i])\n",
    "for d in disciplines:\n",
    "    data[d] = data[\"disciplines\"].apply(lambda x : True if d in x else False)\n",
    "    t,p = pyshs.tableau_croise(data,d,\"familiarite_notebook\",p=True)\n",
    "    print(d,round(p,4))\n"
   ]
  },
  {
   "cell_type": "markdown",
   "id": "6872edab",
   "metadata": {},
   "source": [
    "Il n'y a pas de différences significatives qui apparaissent dans l'usage des notebooks."
   ]
  },
  {
   "cell_type": "markdown",
   "id": "92ed3c5b",
   "metadata": {},
   "source": [
    "#### Analyse multivariée"
   ]
  },
  {
   "cell_type": "markdown",
   "id": "18106645",
   "metadata": {},
   "source": [
    "Avec une régression logistique, il apparaît toutefois que l'âge est un facteur qui pourrait peser dans un usage moindre : plus les répondants sont âgés, moins ils sont susceptibles d'avoir un usage modéré ou avancé."
   ]
  },
  {
   "cell_type": "code",
   "execution_count": 30,
   "id": "32eed827",
   "metadata": {},
   "outputs": [
    {
     "data": {
      "text/html": [
       "<div>\n",
       "<style scoped>\n",
       "    .dataframe tbody tr th:only-of-type {\n",
       "        vertical-align: middle;\n",
       "    }\n",
       "\n",
       "    .dataframe tbody tr th {\n",
       "        vertical-align: top;\n",
       "    }\n",
       "\n",
       "    .dataframe thead th {\n",
       "        text-align: right;\n",
       "    }\n",
       "</style>\n",
       "<table border=\"1\" class=\"dataframe\">\n",
       "  <thead>\n",
       "    <tr style=\"text-align: right;\">\n",
       "      <th></th>\n",
       "      <th></th>\n",
       "      <th>OR</th>\n",
       "      <th>p</th>\n",
       "      <th>IC 95%</th>\n",
       "    </tr>\n",
       "    <tr>\n",
       "      <th>Variable</th>\n",
       "      <th>Modalité</th>\n",
       "      <th></th>\n",
       "      <th></th>\n",
       "      <th></th>\n",
       "    </tr>\n",
       "  </thead>\n",
       "  <tbody>\n",
       "    <tr>\n",
       "      <th>.Intercept</th>\n",
       "      <th></th>\n",
       "      <td>2.28</td>\n",
       "      <td>0.471</td>\n",
       "      <td>2.28 [0.24-21.39]</td>\n",
       "    </tr>\n",
       "    <tr>\n",
       "      <th rowspan=\"5\" valign=\"top\">age</th>\n",
       "      <th>1. &lt;25</th>\n",
       "      <td>ref</td>\n",
       "      <td></td>\n",
       "      <td></td>\n",
       "    </tr>\n",
       "    <tr>\n",
       "      <th>2. 26 - 35</th>\n",
       "      <td>0.24</td>\n",
       "      <td>0.016*</td>\n",
       "      <td>0.24 [0.07-0.77]</td>\n",
       "    </tr>\n",
       "    <tr>\n",
       "      <th>3. 36 - 45</th>\n",
       "      <td>0.23</td>\n",
       "      <td>0.03*</td>\n",
       "      <td>0.23 [0.06-0.87]</td>\n",
       "    </tr>\n",
       "    <tr>\n",
       "      <th>5. 46 - 55</th>\n",
       "      <td>0.1</td>\n",
       "      <td>0.002**</td>\n",
       "      <td>0.10 [0.02-0.43]</td>\n",
       "    </tr>\n",
       "    <tr>\n",
       "      <th>5. &gt;56</th>\n",
       "      <td>0.04</td>\n",
       "      <td>0.002**</td>\n",
       "      <td>0.04 [0.01-0.31]</td>\n",
       "    </tr>\n",
       "    <tr>\n",
       "      <th rowspan=\"3\" valign=\"top\">genre</th>\n",
       "      <th>Autre</th>\n",
       "      <td>ref</td>\n",
       "      <td></td>\n",
       "      <td></td>\n",
       "    </tr>\n",
       "    <tr>\n",
       "      <th>F</th>\n",
       "      <td>0.92</td>\n",
       "      <td>0.929</td>\n",
       "      <td>0.92 [0.15-5.68]</td>\n",
       "    </tr>\n",
       "    <tr>\n",
       "      <th>H</th>\n",
       "      <td>1.95</td>\n",
       "      <td>0.469</td>\n",
       "      <td>1.95 [0.32-11.87]</td>\n",
       "    </tr>\n",
       "    <tr>\n",
       "      <th rowspan=\"7\" valign=\"top\">statut</th>\n",
       "      <th>Chercheur</th>\n",
       "      <td>ref</td>\n",
       "      <td></td>\n",
       "      <td></td>\n",
       "    </tr>\n",
       "    <tr>\n",
       "      <th>Doctorant</th>\n",
       "      <td>0.53</td>\n",
       "      <td>0.34</td>\n",
       "      <td>0.53 [0.14-1.96]</td>\n",
       "    </tr>\n",
       "    <tr>\n",
       "      <th>Enseignant-chercheur</th>\n",
       "      <td>1.08</td>\n",
       "      <td>0.899</td>\n",
       "      <td>1.08 [0.33-3.50]</td>\n",
       "    </tr>\n",
       "    <tr>\n",
       "      <th>Etudiant (jusqu'au master 2)</th>\n",
       "      <td>0.4</td>\n",
       "      <td>0.264</td>\n",
       "      <td>0.40 [0.08-2.01]</td>\n",
       "    </tr>\n",
       "    <tr>\n",
       "      <th>Ingénieur d'études</th>\n",
       "      <td>0.52</td>\n",
       "      <td>0.295</td>\n",
       "      <td>0.52 [0.15-1.77]</td>\n",
       "    </tr>\n",
       "    <tr>\n",
       "      <th>Ingénieur de recherche</th>\n",
       "      <td>1.1</td>\n",
       "      <td>0.896</td>\n",
       "      <td>1.10 [0.27-4.46]</td>\n",
       "    </tr>\n",
       "    <tr>\n",
       "      <th>Post-doctorant</th>\n",
       "      <td>0.55</td>\n",
       "      <td>0.461</td>\n",
       "      <td>0.55 [0.11-2.68]</td>\n",
       "    </tr>\n",
       "  </tbody>\n",
       "</table>\n",
       "</div>"
      ],
      "text/plain": [
       "                                           OR        p             IC 95%\n",
       "Variable   Modalité                                                      \n",
       ".Intercept                               2.28    0.471  2.28 [0.24-21.39]\n",
       "age        1. <25                         ref                            \n",
       "           2. 26 - 35                    0.24   0.016*   0.24 [0.07-0.77]\n",
       "           3. 36 - 45                    0.23    0.03*   0.23 [0.06-0.87]\n",
       "           5. 46 - 55                     0.1  0.002**   0.10 [0.02-0.43]\n",
       "           5. >56                        0.04  0.002**   0.04 [0.01-0.31]\n",
       "genre      Autre                          ref                            \n",
       "           F                             0.92    0.929   0.92 [0.15-5.68]\n",
       "           H                             1.95    0.469  1.95 [0.32-11.87]\n",
       "statut     Chercheur                      ref                            \n",
       "           Doctorant                     0.53     0.34   0.53 [0.14-1.96]\n",
       "           Enseignant-chercheur          1.08    0.899   1.08 [0.33-3.50]\n",
       "           Etudiant (jusqu'au master 2)   0.4    0.264   0.40 [0.08-2.01]\n",
       "           Ingénieur d'études            0.52    0.295   0.52 [0.15-1.77]\n",
       "           Ingénieur de recherche         1.1    0.896   1.10 [0.27-4.46]\n",
       "           Post-doctorant                0.55    0.461   0.55 [0.11-2.68]"
      ]
     },
     "execution_count": 30,
     "metadata": {},
     "output_type": "execute_result"
    }
   ],
   "source": [
    "data[\"usage_nb\"] = data[\"familiarite_notebook\"].apply(lambda x : 1 if x in [\"3-usage intermédiaire\",\"4-usage avancé\"] else 0)\n",
    "pyshs.regression_logistique(data,\"usage_nb\",[\"genre\",\"age\",'statut'])"
   ]
  },
  {
   "cell_type": "markdown",
   "id": "c8dfd356",
   "metadata": {
    "id": "c8dfd356"
   },
   "source": [
    "### 5.4 Synthèse sur les questions ouvertes des usages"
   ]
  },
  {
   "cell_type": "markdown",
   "id": "73b88cae",
   "metadata": {},
   "source": [
    "#### Création d'un nuage de mots sur la question de l'expérience des notebooks"
   ]
  },
  {
   "cell_type": "markdown",
   "id": "58204837",
   "metadata": {},
   "source": [
    "Pour faire un nuage de mots, nous utilisons la bibliothèque SpaCy pour rapidement procéder à une tokénisation/lemmatisation."
   ]
  },
  {
   "cell_type": "code",
   "execution_count": 41,
   "id": "721e879a",
   "metadata": {},
   "outputs": [],
   "source": [
    "import spacy\n",
    "import wordcloud\n",
    "from itertools import chain\n",
    "\n",
    "#!python -m spacy download fr_core_news_md\n",
    "nlp = spacy.load(\"fr_core_news_md\")"
   ]
  },
  {
   "cell_type": "code",
   "execution_count": 79,
   "id": "0fc634bb",
   "metadata": {
    "id": "0fc634bb"
   },
   "outputs": [],
   "source": [
    "# extraire tous les commentaires\n",
    "d = pd.DataFrame(data[[\"pratique_notebook\"]].apply(lambda x : \"\\n\".join([str(j) for j in x]),axis=1)\\\n",
    ".replace(\"nan\\nnan\",None).dropna().str.replace(\"\\n\",\" \").str.replace(\"\\r\",\" \"),columns=[\"textes\"])\n",
    "\n",
    "#ajouter une colonne tokenisée\n",
    "d[\"tok\"] = d[\"textes\"].apply(lambda x : [token.text for token in nlp(x)])\n",
    "\n",
    "# ajouter une colonne lemmatisée\n",
    "d[\"lem\"] = d[\"textes\"].apply(lambda x : [token.lemma_ for token in nlp(x)])"
   ]
  },
  {
   "cell_type": "markdown",
   "id": "e9c13f96",
   "metadata": {},
   "source": [
    "Création d'un texte global filtrant certains éléments"
   ]
  },
  {
   "cell_type": "code",
   "execution_count": 80,
   "id": "c9bab0e5",
   "metadata": {},
   "outputs": [],
   "source": [
    "# uniquement les mots lemmatisés\n",
    "texte_complet = list(chain.from_iterable(list(d[\"lem\"])))\n",
    "# mots à enlever\n",
    "stopwords = [\"pour\",\"plus\"]\n",
    "# enlever les mots de trois lettres ou moins\n",
    "texte_complet = [i for i in texte_complet if len(i)>3 and not i in stopwords]"
   ]
  },
  {
   "cell_type": "markdown",
   "id": "9a987825",
   "metadata": {},
   "source": [
    "Construction du nuage de mots"
   ]
  },
  {
   "cell_type": "code",
   "execution_count": 81,
   "id": "d1adfcb6",
   "metadata": {},
   "outputs": [
    {
     "data": {
      "image/png": "[encoded data removed]",
      "text/plain": [
       "<Figure size 1000x500 with 1 Axes>"
      ]
     },
     "metadata": {},
     "output_type": "display_data"
    }
   ],
   "source": [
    "nuage_de_mots = wordcloud.WordCloud(width=800, height=400, background_color='white').generate(\" \".join(texte_complet))\n",
    "\n",
    "# Affichez le nuage de mots\n",
    "plt.figure(figsize=(10, 5))\n",
    "plt.imshow(nuage_de_mots, interpolation='bilinear')\n",
    "plt.axis(\"off\")\n",
    "plt.show()"
   ]
  },
  {
   "cell_type": "markdown",
   "id": "914231f5-e8c3-4991-9732-a24a15796b01",
   "metadata": {},
   "source": [
    "Lecture qualitative et identification des différents usages mentionnés par les répondants dans le questionnaire :\n",
    "\n",
    "- uniquement expérimenté lors du suivi de formation et de cours\n",
    "- publication des résultats de recherche sous forme de JupyterNotebook\n",
    "- exploration des données\n",
    "- réutilisation de notebooks créés par d'autres (informaticiens)\n",
    "- workflow complet\n",
    "- améliorer la documentation des scripts\n",
    "- pour la réalisation des preuves de concepts\n",
    "- uniquement pour les petits scripts\n",
    "- former les stagiaires dans l'équipe\n",
    "- support du travail collaboratif"
   ]
  },
  {
   "cell_type": "markdown",
   "id": "c726ca84",
   "metadata": {},
   "source": [
    "## 6 Ressources liées\n",
    "\n",
    "\n",
    "- [Maxime Popineau, Émilien Schultz, Marie-Laure Massot, Agnès Tricoche. Les carnets numériques interactifs en Sciences humaines et sociales : l'exemple des carnets Jupyter. Initiative Digit_Hum; EUR Translitteræ; CAPHÉS (UMS 3610, CNRS-ENS); AOROC (UMR 8546, CNRS-ENS-EPHE). 2023, 12 p.](https://hal.science/hal-04161172)\n",
    "- [Maxime Popineau, rapport réalisé en stage de Master 2 coencadré par Marie-Laure Massot, Emillien Schultz et Agnès Tricoche. Un panorama des pratiques informatiques dans les publications de recherche dans la base de données HAL, un exemple des bonnes pratiques à mettre en place pour constituer un Notebook](https://popineaumaxime-les.curve.space/myst/markdown-notebooks)\n",
    "- [Vidéos de l'Atelier Digit_Hum 2023 « Manipuler des données en SHS : R, Python et les carnets interactifs\" (12/10/2023, ENS PSL)](https://digithum.huma-num.fr/atelier/2023/)"
   ]
  }
 ],
 "metadata": {
  "colab": {
   "provenance": []
  },
  "kernelspec": {
   "display_name": "Python 3 (ipykernel)",
   "language": "python",
   "name": "python3"
  },
  "language_info": {
   "codemirror_mode": {
    "name": "ipython",
    "version": 3
   },
   "file_extension": ".py",
   "mimetype": "text/x-python",
   "name": "python",
   "nbconvert_exporter": "python",
   "pygments_lexer": "ipython3",
   "version": "3.11.4"
  }
 },
 "nbformat": 4,
 "nbformat_minor": 5
}
