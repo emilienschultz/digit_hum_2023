{
 "cells": [
  {
   "cell_type": "markdown",
   "id": "2269caad",
   "metadata": {},
   "source": [
    "# Enquête Digit_hum\n",
    "\n",
    " Sondage : Manipuler des données en Sciences Humaines et Sociales (SHS) : R, Python, ou autre ?\n",
    " \n",
    "- Diffusion 27 mars 2023\n",
    "- Premier traitement : courant mai"
   ]
  },
  {
   "cell_type": "markdown",
   "id": "86703f28",
   "metadata": {},
   "source": [
    "### Points à discuter\n",
    "\n",
    "- comment recoder les disciplines ?"
   ]
  },
  {
   "cell_type": "markdown",
   "id": "ac2811f7",
   "metadata": {},
   "source": [
    "## Chargement des bibliothèques & données"
   ]
  },
  {
   "cell_type": "code",
   "execution_count": 1,
   "id": "b4b58eb5",
   "metadata": {},
   "outputs": [],
   "source": [
    "import pandas as pd\n",
    "import pyshs"
   ]
  },
  {
   "cell_type": "code",
   "execution_count": 44,
   "id": "27bd8eb6",
   "metadata": {},
   "outputs": [
    {
     "data": {
      "text/plain": [
       "(216, 80)"
      ]
     },
     "execution_count": 44,
     "metadata": {},
     "output_type": "execute_result"
    }
   ],
   "source": [
    "data = pd.read_csv(\"./manipuler_des_donnees_en_sciences_humaines_et_sociales_shs___r_python_ou_autre_2023_05_03.csv\",sep=\";\",\n",
    "                   skiprows=[0,1])\n",
    "\n",
    "import json\n",
    "#json.dump(reco,open(\"./reco_columns.json\",\"w\"))\n",
    "reco = json.load(open(\"./reco_columns.json\",\"r\"))\n",
    "data = data.rename(columns= reco)\n",
    "data = data.drop(columns=\"drop\")\n",
    "data.shape"
   ]
  },
  {
   "cell_type": "markdown",
   "id": "5844d955",
   "metadata": {},
   "source": [
    "## Nettoyer les données"
   ]
  },
  {
   "cell_type": "code",
   "execution_count": 5,
   "id": "1724dfcf",
   "metadata": {},
   "outputs": [
    {
     "data": {
      "text/plain": [
       "Index(['heure', 'genre', 'statut', 'autre', 'contrat', 'age',\n",
       "       'disc_Anthropologie', 'disc_Archéologie', 'disc_Economie',\n",
       "       'disc_Géographie', 'disc_Histoire', 'disc_Linguistique',\n",
       "       'disc_Littérature', 'disc_Philosophie', 'disc_Psychologie',\n",
       "       'disc_Sociologie', 'disc_Autre', 'prog_A+', 'prog_Bash', 'prog_C',\n",
       "       'prog_Java', 'prog_JavaScript', 'prog_Julia', 'prog_Pascal',\n",
       "       'prog_Perl', 'prog_PHP', 'prog_Python', 'prog_R', 'prog_Rust',\n",
       "       'prog_Swift', 'prog_SQL', 'prog_Autre', 'prog_Autre_lang',\n",
       "       'donnees_Image', 'donnees_Son', 'donnees_Vidéo', 'donnees_Texte',\n",
       "       'donnees_Géographique', 'donnees_Numérique', 'donnees_autres',\n",
       "       'entendu_python', 'familiarite_python', 'experience_python',\n",
       "       'activite_python', 'niveau_python', 'pratique_python',\n",
       "       'exemples_python', 'temps_python', 'collegues_python',\n",
       "       'traitements_python', 'ressources_python', 'entendu_r', 'familiarite_r',\n",
       "       'experience_r', 'activite_r', 'niveau_r', 'pratique_r', 'exemple_r',\n",
       "       'temps_r', 'collegues_r', 'traitements_r', 'ressources_r',\n",
       "       'usages_spe_r', 'entendu_jupyter', 'usage_jupyter', 'notebook_Jupyter',\n",
       "       'notebook_Google Colab', 'notebook_Autre.1', 'familiarite_notebook',\n",
       "       'experience_notebook', 'niveau_notebook', 'pratique_notebook',\n",
       "       'exemple_notebook', 'temps_notebook', 'collegue_notebook',\n",
       "       'traitement_notebook', 'type_notebook', 'ressources_notebook',\n",
       "       'progsci_shs', 'commentaires_finaux'],\n",
       "      dtype='object')"
      ]
     },
     "execution_count": 5,
     "metadata": {},
     "output_type": "execute_result"
    }
   ],
   "source": [
    "data.columns"
   ]
  },
  {
   "cell_type": "code",
   "execution_count": 45,
   "id": "64822a3b",
   "metadata": {},
   "outputs": [],
   "source": [
    "f_missing = data[\"age\"].notna()\n",
    "data = data[f_missing] #enlever si l'âge n'est pas mentionné\n",
    "\n",
    "reco = {\"Je l'utilise, à un niveau débutant\":\"2-usage débutant\",\n",
    "       \"Je l'utilise, à un niveau intermédiaire\":\"3-usage intermédiaire\",\n",
    "       \"J'en ai juste entendu parlé\":\"1-entendu parlé\", \"Je l'utilise, à un niveau avancé\":\"4-usage avancé\",\n",
    "       \"J'en ai juste entendu parler\":\"1-entendu parlé\",\"Je ne connais pas\":\"NA\"}\n",
    "reco = {\"Je l'utilise, à un niveau débutant\":\"2. Use it (beginner)\",\n",
    "       \"Je l'utilise, à un niveau intermédiaire\":\"3. Use it (intermediary)\",\n",
    "       \"J'en ai juste entendu parlé\":\"1. Heard about it\", \"Je l'utilise, à un niveau avancé\":\"4. Use it (advanced)\",\n",
    "       \"J'en ai juste entendu parler\":\"1. Heard about it\",\"Je ne connais pas\":\"0. Don't know\"}\n",
    "data[\"familiarite_python\"] = data[\"familiarite_python\"].replace(reco).fillna(\"NA\")\n",
    "data[\"familiarite_notebook\"] = data[\"familiarite_notebook\"].replace(reco).fillna(\"0. Don't know\")\n",
    "data[\"familiarite_r\"] = data[\"familiarite_r\"].replace(reco).fillna(\"NA\")\n",
    "reco = {'46 - 55 ans': '5. 46 - 55',\n",
    " '26 - 35 ans': '2. 26 - 35',\n",
    " 'Moins de 25 ans': '1. <25',\n",
    " '36 - 45 ans': '3. 36 - 45',\n",
    " 'Plus de 56 ans': '5. >56'}\n",
    "data[\"age\"] = data[\"age\"].replace(reco)\n",
    "\n",
    "reco = {\"Oui, à la fois pour la recherche et pour l'enseignement\":\"4. Teaching and research\",\n",
    "       'Oui, pour la recherche':\"2. Only research\", 'Non':\"1. No\", \"Oui, pour l'enseignement\":\"3. Only teaching\"}\n",
    "data[\"experience_notebook\"] = data[\"experience_notebook\"].replace(reco)\n",
    "\n",
    "reco = {'0 à 3 ans':\"0-3\",  '3 à 5 ans':\"3-5\", '5 à 10 ans':\"5-10\"}\n",
    "data[\"temps_notebook\"] = data[\"temps_notebook\"].replace(reco)\n",
    "\n",
    "reco = {'Oui, un peu':\"2. Yes, a few\", 'Oui, beaucoup':\"3. Yes, a lot\", 'Non':\"1. No\"}\n",
    "data[\"collegue_notebook\"] = data[\"collegue_notebook\"].replace(reco)\n",
    "\n",
    "reco = {'Oui, plutôt':\"2-Oui, plutôt\", 'Oui, beaucoup':\"3-Oui, beaucoup\", 'Je ne sais pas':\"4-NSP\",\n",
    "       'Non, pas du tout':\"1-Non, pas du tout\"}\n",
    "data[\"progsci_shs\"] = data[\"progsci_shs\"].replace(reco)"
   ]
  },
  {
   "cell_type": "markdown",
   "id": "02c9693c",
   "metadata": {},
   "source": [
    "## Description échantillon"
   ]
  },
  {
   "cell_type": "code",
   "execution_count": 6,
   "id": "c1a4b9e9",
   "metadata": {},
   "outputs": [
    {
     "data": {
      "text/html": [
       "<div>\n",
       "<style scoped>\n",
       "    .dataframe tbody tr th:only-of-type {\n",
       "        vertical-align: middle;\n",
       "    }\n",
       "\n",
       "    .dataframe tbody tr th {\n",
       "        vertical-align: top;\n",
       "    }\n",
       "\n",
       "    .dataframe thead th {\n",
       "        text-align: right;\n",
       "    }\n",
       "</style>\n",
       "<table border=\"1\" class=\"dataframe\">\n",
       "  <thead>\n",
       "    <tr style=\"text-align: right;\">\n",
       "      <th></th>\n",
       "      <th>Effectif</th>\n",
       "      <th>Pourcentage (%)</th>\n",
       "    </tr>\n",
       "  </thead>\n",
       "  <tbody>\n",
       "    <tr>\n",
       "      <th>1. &lt;25</th>\n",
       "      <td>19.0</td>\n",
       "      <td>9.2</td>\n",
       "    </tr>\n",
       "    <tr>\n",
       "      <th>2. 26 - 35</th>\n",
       "      <td>80.0</td>\n",
       "      <td>38.8</td>\n",
       "    </tr>\n",
       "    <tr>\n",
       "      <th>3. 36 - 45</th>\n",
       "      <td>51.0</td>\n",
       "      <td>24.8</td>\n",
       "    </tr>\n",
       "    <tr>\n",
       "      <th>5. 46 - 55</th>\n",
       "      <td>39.0</td>\n",
       "      <td>18.9</td>\n",
       "    </tr>\n",
       "    <tr>\n",
       "      <th>5. &gt;56</th>\n",
       "      <td>17.0</td>\n",
       "      <td>8.3</td>\n",
       "    </tr>\n",
       "    <tr>\n",
       "      <th>Total</th>\n",
       "      <td>206.0</td>\n",
       "      <td>100.0</td>\n",
       "    </tr>\n",
       "  </tbody>\n",
       "</table>\n",
       "</div>"
      ],
      "text/plain": [
       "            Effectif  Pourcentage (%)\n",
       "1. <25          19.0              9.2\n",
       "2. 26 - 35      80.0             38.8\n",
       "3. 36 - 45      51.0             24.8\n",
       "5. 46 - 55      39.0             18.9\n",
       "5. >56          17.0              8.3\n",
       "Total          206.0            100.0"
      ]
     },
     "execution_count": 6,
     "metadata": {},
     "output_type": "execute_result"
    }
   ],
   "source": [
    "pyshs.tri_a_plat(data,\"age\")"
   ]
  },
  {
   "cell_type": "code",
   "execution_count": 7,
   "id": "a59105fd",
   "metadata": {},
   "outputs": [
    {
     "data": {
      "text/html": [
       "<div>\n",
       "<style scoped>\n",
       "    .dataframe tbody tr th:only-of-type {\n",
       "        vertical-align: middle;\n",
       "    }\n",
       "\n",
       "    .dataframe tbody tr th {\n",
       "        vertical-align: top;\n",
       "    }\n",
       "\n",
       "    .dataframe thead th {\n",
       "        text-align: right;\n",
       "    }\n",
       "</style>\n",
       "<table border=\"1\" class=\"dataframe\">\n",
       "  <thead>\n",
       "    <tr style=\"text-align: right;\">\n",
       "      <th></th>\n",
       "      <th>Effectif</th>\n",
       "      <th>Pourcentage (%)</th>\n",
       "    </tr>\n",
       "  </thead>\n",
       "  <tbody>\n",
       "    <tr>\n",
       "      <th>Autre</th>\n",
       "      <td>6.0</td>\n",
       "      <td>2.9</td>\n",
       "    </tr>\n",
       "    <tr>\n",
       "      <th>F</th>\n",
       "      <td>102.0</td>\n",
       "      <td>50.0</td>\n",
       "    </tr>\n",
       "    <tr>\n",
       "      <th>H</th>\n",
       "      <td>96.0</td>\n",
       "      <td>47.1</td>\n",
       "    </tr>\n",
       "    <tr>\n",
       "      <th>Total</th>\n",
       "      <td>204.0</td>\n",
       "      <td>100.0</td>\n",
       "    </tr>\n",
       "  </tbody>\n",
       "</table>\n",
       "</div>"
      ],
      "text/plain": [
       "       Effectif  Pourcentage (%)\n",
       "Autre       6.0              2.9\n",
       "F         102.0             50.0\n",
       "H          96.0             47.1\n",
       "Total     204.0            100.0"
      ]
     },
     "execution_count": 7,
     "metadata": {},
     "output_type": "execute_result"
    }
   ],
   "source": [
    "pyshs.tri_a_plat(data,\"genre\")"
   ]
  },
  {
   "cell_type": "code",
   "execution_count": 8,
   "id": "fd55a763",
   "metadata": {},
   "outputs": [
    {
     "data": {
      "text/html": [
       "<div>\n",
       "<style scoped>\n",
       "    .dataframe tbody tr th:only-of-type {\n",
       "        vertical-align: middle;\n",
       "    }\n",
       "\n",
       "    .dataframe tbody tr th {\n",
       "        vertical-align: top;\n",
       "    }\n",
       "\n",
       "    .dataframe thead th {\n",
       "        text-align: right;\n",
       "    }\n",
       "</style>\n",
       "<table border=\"1\" class=\"dataframe\">\n",
       "  <thead>\n",
       "    <tr style=\"text-align: right;\">\n",
       "      <th></th>\n",
       "      <th>Effectif</th>\n",
       "      <th>Pourcentage (%)</th>\n",
       "    </tr>\n",
       "  </thead>\n",
       "  <tbody>\n",
       "    <tr>\n",
       "      <th>Chercheur</th>\n",
       "      <td>23.0</td>\n",
       "      <td>11.2</td>\n",
       "    </tr>\n",
       "    <tr>\n",
       "      <th>Doctorant</th>\n",
       "      <td>45.0</td>\n",
       "      <td>21.8</td>\n",
       "    </tr>\n",
       "    <tr>\n",
       "      <th>Enseignant-chercheur</th>\n",
       "      <td>39.0</td>\n",
       "      <td>18.9</td>\n",
       "    </tr>\n",
       "    <tr>\n",
       "      <th>Etudiant (jusqu'au master 2)</th>\n",
       "      <td>19.0</td>\n",
       "      <td>9.2</td>\n",
       "    </tr>\n",
       "    <tr>\n",
       "      <th>Ingénieur d'études</th>\n",
       "      <td>45.0</td>\n",
       "      <td>21.8</td>\n",
       "    </tr>\n",
       "    <tr>\n",
       "      <th>Ingénieur de recherche</th>\n",
       "      <td>18.0</td>\n",
       "      <td>8.7</td>\n",
       "    </tr>\n",
       "    <tr>\n",
       "      <th>Post-doctorant</th>\n",
       "      <td>17.0</td>\n",
       "      <td>8.3</td>\n",
       "    </tr>\n",
       "    <tr>\n",
       "      <th>Total</th>\n",
       "      <td>206.0</td>\n",
       "      <td>99.9</td>\n",
       "    </tr>\n",
       "  </tbody>\n",
       "</table>\n",
       "</div>"
      ],
      "text/plain": [
       "                              Effectif  Pourcentage (%)\n",
       "Chercheur                         23.0             11.2\n",
       "Doctorant                         45.0             21.8\n",
       "Enseignant-chercheur              39.0             18.9\n",
       "Etudiant (jusqu'au master 2)      19.0              9.2\n",
       "Ingénieur d'études                45.0             21.8\n",
       "Ingénieur de recherche            18.0              8.7\n",
       "Post-doctorant                    17.0              8.3\n",
       "Total                            206.0             99.9"
      ]
     },
     "execution_count": 8,
     "metadata": {},
     "output_type": "execute_result"
    }
   ],
   "source": [
    "pyshs.tri_a_plat(data,\"statut\")"
   ]
  },
  {
   "cell_type": "code",
   "execution_count": 9,
   "id": "cc4ffbc8",
   "metadata": {},
   "outputs": [
    {
     "data": {
      "text/html": [
       "<div>\n",
       "<style scoped>\n",
       "    .dataframe tbody tr th:only-of-type {\n",
       "        vertical-align: middle;\n",
       "    }\n",
       "\n",
       "    .dataframe tbody tr th {\n",
       "        vertical-align: top;\n",
       "    }\n",
       "\n",
       "    .dataframe thead th {\n",
       "        text-align: right;\n",
       "    }\n",
       "</style>\n",
       "<table border=\"1\" class=\"dataframe\">\n",
       "  <thead>\n",
       "    <tr style=\"text-align: right;\">\n",
       "      <th></th>\n",
       "      <th>Effectif</th>\n",
       "      <th>Pourcentage (%)</th>\n",
       "    </tr>\n",
       "  </thead>\n",
       "  <tbody>\n",
       "    <tr>\n",
       "      <th>CDI de droit privé</th>\n",
       "      <td>16.0</td>\n",
       "      <td>8.2</td>\n",
       "    </tr>\n",
       "    <tr>\n",
       "      <th>Non titulaire (CDD)</th>\n",
       "      <td>84.0</td>\n",
       "      <td>42.9</td>\n",
       "    </tr>\n",
       "    <tr>\n",
       "      <th>Titulaire de la fonction publique</th>\n",
       "      <td>96.0</td>\n",
       "      <td>49.0</td>\n",
       "    </tr>\n",
       "    <tr>\n",
       "      <th>Total</th>\n",
       "      <td>196.0</td>\n",
       "      <td>100.1</td>\n",
       "    </tr>\n",
       "  </tbody>\n",
       "</table>\n",
       "</div>"
      ],
      "text/plain": [
       "                                   Effectif  Pourcentage (%)\n",
       "CDI de droit privé                     16.0              8.2\n",
       "Non titulaire (CDD)                    84.0             42.9\n",
       "Titulaire de la fonction publique      96.0             49.0\n",
       "Total                                 196.0            100.1"
      ]
     },
     "execution_count": 9,
     "metadata": {},
     "output_type": "execute_result"
    }
   ],
   "source": [
    "pyshs.tri_a_plat(data,\"contrat\")"
   ]
  },
  {
   "cell_type": "code",
   "execution_count": 11,
   "id": "bda36a6e",
   "metadata": {},
   "outputs": [
    {
     "data": {
      "text/plain": [
       "{'disc_Anthropologie': 10.2,\n",
       " 'disc_Archéologie': 15.5,\n",
       " 'disc_Economie': 2.9,\n",
       " 'disc_Géographie': 9.2,\n",
       " 'disc_Histoire': 33.0,\n",
       " 'disc_Linguistique': 25.2,\n",
       " 'disc_Littérature': 22.8,\n",
       " 'disc_Philosophie': 9.2,\n",
       " 'disc_Psychologie': 3.9,\n",
       " 'disc_Sociologie': 27.2,\n",
       " 'disc_Autre': 24.8}"
      ]
     },
     "execution_count": 11,
     "metadata": {},
     "output_type": "execute_result"
    }
   ],
   "source": [
    "{i:round(100*len(data[i].dropna())/len(data),1) for i in data.columns if \"disc_\" in i}"
   ]
  },
  {
   "cell_type": "markdown",
   "id": "4b83f6e4",
   "metadata": {},
   "source": [
    "Recoder les disciplines !!!!"
   ]
  },
  {
   "cell_type": "code",
   "execution_count": 12,
   "id": "4e370492",
   "metadata": {},
   "outputs": [
    {
     "data": {
      "text/plain": [
       "['Littérature italienne',\n",
       " 'Religion/Théologie',\n",
       " 'Science politique',\n",
       " 'Sciences Politiques',\n",
       " 'Humanités numériques ',\n",
       " \"Sciences de l'Information et de la Communication\",\n",
       " \"Sciences de l'information et des bibliothèques\",\n",
       " 'STS',\n",
       " \"Histoire de l'art\\r\\r\\nHumanités numériques\",\n",
       " 'Histoire du droit/philosphie du droit ',\n",
       " 'information et communication',\n",
       " \"Sciences de l'information et de la communication\",\n",
       " 'Interactions humain-machine',\n",
       " \"dcience de l'info-com / media studies\",\n",
       " 'Traitement Automatique des Langues Naturelles',\n",
       " \"science and technology studies (STS), sciences de l'information et de la communication (SIC)\",\n",
       " \"Sciences de l'antiquité en général\",\n",
       " 'Humanités Numériques',\n",
       " 'numismate',\n",
       " \"plutôt généraliste en Sciences de l'information, humanités numériques\\r\\r\\n\\r\\r\\navec une orientation récente (3 ans) autour de la philologie, musicologie...\",\n",
       " 'Démographie',\n",
       " 'archéométrie',\n",
       " 'Arts du spectacle',\n",
       " 'Histoire des sciences, mathématiques',\n",
       " \"Sciences de l'information et de la communication\",\n",
       " \"& sciences de l'éducation\",\n",
       " \"Sciences de l'information et de la communication, Documentation\",\n",
       " 'Urbanisme/aménagement',\n",
       " '...sciences politiques',\n",
       " \"sciences de l'information et de la communication\",\n",
       " 'Sciences, techniques et societé (Science and Technology Studies, STS)',\n",
       " \"Sciences de l'information et de la communication\",\n",
       " \"sciences de l'information et de la communication\",\n",
       " 'Science politique',\n",
       " 'informatique pour les sciences humaines',\n",
       " 'Humanités numériques littéraires',\n",
       " \"Histoire de l'art\",\n",
       " 'Philologie',\n",
       " \"Pas linguistique mais Sciences de l'information et de la communication\",\n",
       " \"et histoire de l'art ! \",\n",
       " 'Lettres classiques',\n",
       " \"info-com (oui oui, ça existe. C'est même une discipline. Et cerise, il y a une commission CNU dédiée ! Pour ce que ça vaut.)\",\n",
       " 'Mission Transition écologique',\n",
       " \"Sciences de l'éducation et de la formation\",\n",
       " 'Je travaille à la MRSH de Caen avec des chercheurs de différentes disciplines SHS.',\n",
       " 'Humanité Numérique',\n",
       " 'Informatique linguistique',\n",
       " 'philologie',\n",
       " \"Géochimie appliquée à l'archéologie\",\n",
       " \"Géochimie appliquée à l'archéologie\",\n",
       " 'Sciences politiques ']"
      ]
     },
     "execution_count": 12,
     "metadata": {},
     "output_type": "execute_result"
    }
   ],
   "source": [
    "list(data[\"disc_Autre\"].dropna())"
   ]
  },
  {
   "cell_type": "markdown",
   "id": "857ec237",
   "metadata": {},
   "source": [
    "Usage des langages de programmation (%)"
   ]
  },
  {
   "cell_type": "code",
   "execution_count": 13,
   "id": "1d9b9458",
   "metadata": {},
   "outputs": [
    {
     "data": {
      "text/plain": [
       "prog_A+             0.0\n",
       "prog_Swift          0.0\n",
       "prog_Julia          1.0\n",
       "prog_Rust           1.9\n",
       "prog_Pascal         4.4\n",
       "prog_Perl          11.2\n",
       "prog_Java          13.6\n",
       "prog_C             14.6\n",
       "prog_Autre         15.5\n",
       "prog_Bash          24.3\n",
       "prog_PHP           24.8\n",
       "prog_Autre_lang    24.8\n",
       "prog_JavaScript    27.2\n",
       "prog_SQL           45.1\n",
       "prog_R             55.3\n",
       "prog_Python        63.6\n",
       "dtype: float64"
      ]
     },
     "execution_count": 13,
     "metadata": {},
     "output_type": "execute_result"
    }
   ],
   "source": [
    "pd.Series({i:round(100*len(data[i].dropna())/len(data),1) for i in data.columns if \"prog_\" in i}).sort_values()"
   ]
  },
  {
   "cell_type": "markdown",
   "id": "3bf19384",
   "metadata": {},
   "source": [
    "Type de données utilisées (%)"
   ]
  },
  {
   "cell_type": "code",
   "execution_count": 15,
   "id": "413a03c0",
   "metadata": {},
   "outputs": [
    {
     "data": {
      "text/plain": [
       "donnees_autres           6.8\n",
       "donnees_Vidéo            7.8\n",
       "donnees_Son              9.7\n",
       "donnees_Géographique    22.8\n",
       "donnees_Image           38.3\n",
       "donnees_Numérique       47.6\n",
       "donnees_Texte           92.2\n",
       "dtype: float64"
      ]
     },
     "execution_count": 15,
     "metadata": {},
     "output_type": "execute_result"
    }
   ],
   "source": [
    "pd.Series({i:round(100*len(data[i].dropna())/len(data),1) for i in data.columns if \"donnees_\" in i}).sort_values()"
   ]
  },
  {
   "cell_type": "markdown",
   "id": "bdf0b97b",
   "metadata": {},
   "source": [
    "Plus de programmation scientifique ?"
   ]
  },
  {
   "cell_type": "code",
   "execution_count": 46,
   "id": "6253bb32",
   "metadata": {},
   "outputs": [
    {
     "data": {
      "text/html": [
       "<div>\n",
       "<style scoped>\n",
       "    .dataframe tbody tr th:only-of-type {\n",
       "        vertical-align: middle;\n",
       "    }\n",
       "\n",
       "    .dataframe tbody tr th {\n",
       "        vertical-align: top;\n",
       "    }\n",
       "\n",
       "    .dataframe thead th {\n",
       "        text-align: right;\n",
       "    }\n",
       "</style>\n",
       "<table border=\"1\" class=\"dataframe\">\n",
       "  <thead>\n",
       "    <tr style=\"text-align: right;\">\n",
       "      <th></th>\n",
       "      <th>Effectif</th>\n",
       "      <th>Pourcentage (%)</th>\n",
       "    </tr>\n",
       "  </thead>\n",
       "  <tbody>\n",
       "    <tr>\n",
       "      <th>1-Non, pas du tout</th>\n",
       "      <td>4.0</td>\n",
       "      <td>2.1</td>\n",
       "    </tr>\n",
       "    <tr>\n",
       "      <th>2-Oui, plutôt</th>\n",
       "      <td>79.0</td>\n",
       "      <td>41.8</td>\n",
       "    </tr>\n",
       "    <tr>\n",
       "      <th>3-Oui, beaucoup</th>\n",
       "      <td>88.0</td>\n",
       "      <td>46.6</td>\n",
       "    </tr>\n",
       "    <tr>\n",
       "      <th>4-NSP</th>\n",
       "      <td>18.0</td>\n",
       "      <td>9.5</td>\n",
       "    </tr>\n",
       "    <tr>\n",
       "      <th>Total</th>\n",
       "      <td>189.0</td>\n",
       "      <td>100.0</td>\n",
       "    </tr>\n",
       "  </tbody>\n",
       "</table>\n",
       "</div>"
      ],
      "text/plain": [
       "                    Effectif  Pourcentage (%)\n",
       "1-Non, pas du tout       4.0              2.1\n",
       "2-Oui, plutôt           79.0             41.8\n",
       "3-Oui, beaucoup         88.0             46.6\n",
       "4-NSP                   18.0              9.5\n",
       "Total                  189.0            100.0"
      ]
     },
     "execution_count": 46,
     "metadata": {},
     "output_type": "execute_result"
    }
   ],
   "source": [
    "\n",
    "pyshs.tri_a_plat(data,\"progsci_shs\")"
   ]
  },
  {
   "cell_type": "markdown",
   "id": "10b2c9be",
   "metadata": {},
   "source": [
    "## Usages de Python & R"
   ]
  },
  {
   "cell_type": "code",
   "execution_count": 21,
   "id": "353069ea",
   "metadata": {},
   "outputs": [
    {
     "data": {
      "text/html": [
       "<div>\n",
       "<style scoped>\n",
       "    .dataframe tbody tr th:only-of-type {\n",
       "        vertical-align: middle;\n",
       "    }\n",
       "\n",
       "    .dataframe tbody tr th {\n",
       "        vertical-align: top;\n",
       "    }\n",
       "\n",
       "    .dataframe thead tr th {\n",
       "        text-align: left;\n",
       "    }\n",
       "</style>\n",
       "<table border=\"1\" class=\"dataframe\">\n",
       "  <thead>\n",
       "    <tr>\n",
       "      <th></th>\n",
       "      <th colspan=\"2\" halign=\"left\">Entendu Python</th>\n",
       "      <th colspan=\"2\" halign=\"left\">Entendu R</th>\n",
       "    </tr>\n",
       "    <tr>\n",
       "      <th></th>\n",
       "      <th>Effectif</th>\n",
       "      <th>Pourcentage (%)</th>\n",
       "      <th>Effectif</th>\n",
       "      <th>Pourcentage (%)</th>\n",
       "    </tr>\n",
       "  </thead>\n",
       "  <tbody>\n",
       "    <tr>\n",
       "      <th>Non</th>\n",
       "      <td>7.0</td>\n",
       "      <td>3.4</td>\n",
       "      <td>15.0</td>\n",
       "      <td>7.3</td>\n",
       "    </tr>\n",
       "    <tr>\n",
       "      <th>Oui</th>\n",
       "      <td>199.0</td>\n",
       "      <td>96.6</td>\n",
       "      <td>191.0</td>\n",
       "      <td>92.7</td>\n",
       "    </tr>\n",
       "    <tr>\n",
       "      <th>Total</th>\n",
       "      <td>206.0</td>\n",
       "      <td>100.0</td>\n",
       "      <td>206.0</td>\n",
       "      <td>100.0</td>\n",
       "    </tr>\n",
       "  </tbody>\n",
       "</table>\n",
       "</div>"
      ],
      "text/plain": [
       "      Entendu Python                 Entendu R                \n",
       "            Effectif Pourcentage (%)  Effectif Pourcentage (%)\n",
       "Non              7.0             3.4      15.0             7.3\n",
       "Oui            199.0            96.6     191.0            92.7\n",
       "Total          206.0           100.0     206.0           100.0"
      ]
     },
     "execution_count": 21,
     "metadata": {},
     "output_type": "execute_result"
    }
   ],
   "source": [
    "pd.concat({\"Entendu Python\":pyshs.tri_a_plat(data,\"entendu_python\"),\n",
    "\"Entendu R\":pyshs.tri_a_plat(data,\"entendu_r\")},axis=1)"
   ]
  },
  {
   "cell_type": "code",
   "execution_count": 22,
   "id": "84df52a0",
   "metadata": {},
   "outputs": [
    {
     "data": {
      "text/html": [
       "<div>\n",
       "<style scoped>\n",
       "    .dataframe tbody tr th:only-of-type {\n",
       "        vertical-align: middle;\n",
       "    }\n",
       "\n",
       "    .dataframe tbody tr th {\n",
       "        vertical-align: top;\n",
       "    }\n",
       "\n",
       "    .dataframe thead tr th {\n",
       "        text-align: left;\n",
       "    }\n",
       "</style>\n",
       "<table border=\"1\" class=\"dataframe\">\n",
       "  <thead>\n",
       "    <tr>\n",
       "      <th></th>\n",
       "      <th colspan=\"2\" halign=\"left\">Familiarité Python</th>\n",
       "      <th colspan=\"2\" halign=\"left\">Familiarité R</th>\n",
       "    </tr>\n",
       "    <tr>\n",
       "      <th></th>\n",
       "      <th>Effectif</th>\n",
       "      <th>Pourcentage (%)</th>\n",
       "      <th>Effectif</th>\n",
       "      <th>Pourcentage (%)</th>\n",
       "    </tr>\n",
       "  </thead>\n",
       "  <tbody>\n",
       "    <tr>\n",
       "      <th>1. Heard about it</th>\n",
       "      <td>62.0</td>\n",
       "      <td>30.1</td>\n",
       "      <td>62.0</td>\n",
       "      <td>30.1</td>\n",
       "    </tr>\n",
       "    <tr>\n",
       "      <th>2. Use it (beginner)</th>\n",
       "      <td>62.0</td>\n",
       "      <td>30.1</td>\n",
       "      <td>69.0</td>\n",
       "      <td>33.5</td>\n",
       "    </tr>\n",
       "    <tr>\n",
       "      <th>3. Use it (intermediary)</th>\n",
       "      <td>47.0</td>\n",
       "      <td>22.8</td>\n",
       "      <td>42.0</td>\n",
       "      <td>20.4</td>\n",
       "    </tr>\n",
       "    <tr>\n",
       "      <th>4. Use it (advanced)</th>\n",
       "      <td>28.0</td>\n",
       "      <td>13.6</td>\n",
       "      <td>17.0</td>\n",
       "      <td>8.3</td>\n",
       "    </tr>\n",
       "    <tr>\n",
       "      <th>NA</th>\n",
       "      <td>7.0</td>\n",
       "      <td>3.4</td>\n",
       "      <td>15.0</td>\n",
       "      <td>7.3</td>\n",
       "    </tr>\n",
       "    <tr>\n",
       "      <th>Total</th>\n",
       "      <td>206.0</td>\n",
       "      <td>100.0</td>\n",
       "      <td>206.0</td>\n",
       "      <td>100.1</td>\n",
       "    </tr>\n",
       "    <tr>\n",
       "      <th>0. Don't know</th>\n",
       "      <td>NaN</td>\n",
       "      <td>NaN</td>\n",
       "      <td>1.0</td>\n",
       "      <td>0.5</td>\n",
       "    </tr>\n",
       "  </tbody>\n",
       "</table>\n",
       "</div>"
      ],
      "text/plain": [
       "                         Familiarité Python                 Familiarité R  \\\n",
       "                                   Effectif Pourcentage (%)      Effectif   \n",
       "1. Heard about it                      62.0            30.1          62.0   \n",
       "2. Use it (beginner)                   62.0            30.1          69.0   \n",
       "3. Use it (intermediary)               47.0            22.8          42.0   \n",
       "4. Use it (advanced)                   28.0            13.6          17.0   \n",
       "NA                                      7.0             3.4          15.0   \n",
       "Total                                 206.0           100.0         206.0   \n",
       "0. Don't know                           NaN             NaN           1.0   \n",
       "\n",
       "                                          \n",
       "                         Pourcentage (%)  \n",
       "1. Heard about it                   30.1  \n",
       "2. Use it (beginner)                33.5  \n",
       "3. Use it (intermediary)            20.4  \n",
       "4. Use it (advanced)                 8.3  \n",
       "NA                                   7.3  \n",
       "Total                              100.1  \n",
       "0. Don't know                        0.5  "
      ]
     },
     "execution_count": 22,
     "metadata": {},
     "output_type": "execute_result"
    }
   ],
   "source": [
    "pd.concat({\"Familiarité Python\":pyshs.tri_a_plat(data,\"familiarite_python\"),\n",
    "\"Familiarité R\":pyshs.tri_a_plat(data,\"familiarite_r\")},axis=1)"
   ]
  },
  {
   "cell_type": "code",
   "execution_count": 27,
   "id": "59f708b8",
   "metadata": {},
   "outputs": [
    {
     "data": {
      "text/plain": [
       "<AxesSubplot:title={'center':'niveau python'}>"
      ]
     },
     "execution_count": 27,
     "metadata": {},
     "output_type": "execute_result"
    },
    {
     "data": {
      "image/png": "[encoded data removed]",
      "text/plain": [
       "<Figure size 500x200 with 1 Axes>"
      ]
     },
     "metadata": {},
     "output_type": "display_data"
    }
   ],
   "source": [
    "data[\"niveau_python\"].value_counts().sort_index().plot(kind='bar',figsize=(5,2),title=\"niveau python\")"
   ]
  },
  {
   "cell_type": "code",
   "execution_count": 28,
   "id": "ca3ee1e4",
   "metadata": {},
   "outputs": [
    {
     "data": {
      "text/plain": [
       "<AxesSubplot:title={'center':'niveau r'}>"
      ]
     },
     "execution_count": 28,
     "metadata": {},
     "output_type": "execute_result"
    },
    {
     "data": {
      "image/png": "[encoded data removed]",
      "text/plain": [
       "<Figure size 500x200 with 1 Axes>"
      ]
     },
     "metadata": {},
     "output_type": "display_data"
    }
   ],
   "source": [
    "data[\"niveau_r\"].value_counts().sort_index().plot(kind='bar',figsize=(5,2),title=\"niveau r\")"
   ]
  },
  {
   "cell_type": "markdown",
   "id": "a39d1a81",
   "metadata": {},
   "source": [
    "## Jupyter\n",
    "\n",
    "Exploration un peu plus poussée car résultats présentés lors de Jupytercon 2023"
   ]
  },
  {
   "cell_type": "markdown",
   "id": "0f2c84c7",
   "metadata": {},
   "source": [
    "Toutes les questions \n",
    "\n",
    "- \"Connaissez-vous les Carnets interactifs (notebook) : par exemple Jupyter, Rmarkdown, Google Colab ? \": \"entendu_jupyter\"\n",
    "- \"Avez-vous d\\u00e9j\\u00e0 utilis\\u00e9 des Carnets interactifs (Jupyter ou Google Colab) ? \": \"usage_jupyter\"\n",
    "- \"Jupyter\": \"notebook_Jupyter\", \"Google Colab\": \"notebook_Google Colab\", \"Autre.1\": \"notebook_Autre.1\"\n",
    "- \"Quelle est votre familiarit\\u00e9 avec les Carnets interactifs ?\": \"familiarite_notebook\"\n",
    "- \"Avez-vous d\\u00e9j\\u00e0 eu au moins une exp\\u00e9rience de travail qui utilisait des Carnets interactifs ? \": \"experience_notebook\"\n",
    "- \"Comment situez-vous votre pratique  sur une \\u00e9chelle de 1 \\u00e0 10 (L\\u00e9gende : de 1 - grand d\\u00e9butant, \\u00e0  10 - utilisateur avanc\\u00e9 ou expert en passant par 5 - utilisateur autonome) ? .2\": \"niveau_notebook\"\n",
    "- \"Pourriez-vous d\\u00e9crire votre exp\\u00e9rience ? \": \"pratique_notebook\", \"Nous sommes \\u00e0 la recherche d'exemples pour faciliter le partage de ces pratiques, donc si possible, indiquez le nom du / des projets ? .2\": \"exemple_notebook\"\n",
    "- \"Depuis combien de temps utilisez-vous des Carnets interactifs dans le cadre de vos travaux ?\": \"temps_notebook\"\n",
    "- \"Connaissez-vous ou collaborez-vous avec des coll\\u00e8gues utilisant des Carnets interactifs dans le cadre de leurs recherches ?   \": \"collegue_notebook\"\n",
    "- \" Quels sont les principaux traitements que vous r\\u00e9alisez \\u00e0 l'aide des des Carnets interactifs dans le cadre de vos recherches ? Listez les traitements les plus fr\\u00e9quents en quelques mots.\": \"traitement_notebook\"\n",
    "- \"Quel(s) type(s) de solution(s) des Carnets interactifs vous utilisez (Google Colab, installation locale ou autre) ?   \": \"type_notebook\"\n",
    "- \"Quelles sont les ressources (formation en-ligne, cours en pr\\u00e9sentiel, manuels, tutoriels) que vous trouvez les plus utiles pour l'utilisation des Carnets interactifs pour conseiller \\u00e0 un coll\\u00e8gue qui voudrait d\\u00e9buter ?\": \"ressources_notebook\""
   ]
  },
  {
   "cell_type": "code",
   "execution_count": 33,
   "id": "aa373228",
   "metadata": {},
   "outputs": [
    {
     "data": {
      "text/html": [
       "<div>\n",
       "<style scoped>\n",
       "    .dataframe tbody tr th:only-of-type {\n",
       "        vertical-align: middle;\n",
       "    }\n",
       "\n",
       "    .dataframe tbody tr th {\n",
       "        vertical-align: top;\n",
       "    }\n",
       "\n",
       "    .dataframe thead th {\n",
       "        text-align: right;\n",
       "    }\n",
       "</style>\n",
       "<table border=\"1\" class=\"dataframe\">\n",
       "  <thead>\n",
       "    <tr style=\"text-align: right;\">\n",
       "      <th></th>\n",
       "      <th>Effectif</th>\n",
       "      <th>Pourcentage (%)</th>\n",
       "    </tr>\n",
       "  </thead>\n",
       "  <tbody>\n",
       "    <tr>\n",
       "      <th>Non, je ne connais pas</th>\n",
       "      <td>56.0</td>\n",
       "      <td>27.2</td>\n",
       "    </tr>\n",
       "    <tr>\n",
       "      <th>Oui, je connais</th>\n",
       "      <td>150.0</td>\n",
       "      <td>72.8</td>\n",
       "    </tr>\n",
       "    <tr>\n",
       "      <th>Total</th>\n",
       "      <td>206.0</td>\n",
       "      <td>100.0</td>\n",
       "    </tr>\n",
       "  </tbody>\n",
       "</table>\n",
       "</div>"
      ],
      "text/plain": [
       "                        Effectif  Pourcentage (%)\n",
       "Non, je ne connais pas      56.0             27.2\n",
       "Oui, je connais            150.0             72.8\n",
       "Total                      206.0            100.0"
      ]
     },
     "execution_count": 33,
     "metadata": {},
     "output_type": "execute_result"
    }
   ],
   "source": [
    "pyshs.tri_a_plat(data,\"entendu_jupyter\")"
   ]
  },
  {
   "cell_type": "markdown",
   "id": "8ac6eb01",
   "metadata": {},
   "source": [
    "Parmi ceux qui connaissent"
   ]
  },
  {
   "cell_type": "code",
   "execution_count": 34,
   "id": "221ff050",
   "metadata": {},
   "outputs": [
    {
     "data": {
      "text/html": [
       "<div>\n",
       "<style scoped>\n",
       "    .dataframe tbody tr th:only-of-type {\n",
       "        vertical-align: middle;\n",
       "    }\n",
       "\n",
       "    .dataframe tbody tr th {\n",
       "        vertical-align: top;\n",
       "    }\n",
       "\n",
       "    .dataframe thead th {\n",
       "        text-align: right;\n",
       "    }\n",
       "</style>\n",
       "<table border=\"1\" class=\"dataframe\">\n",
       "  <thead>\n",
       "    <tr style=\"text-align: right;\">\n",
       "      <th></th>\n",
       "      <th>Effectif</th>\n",
       "      <th>Pourcentage (%)</th>\n",
       "    </tr>\n",
       "  </thead>\n",
       "  <tbody>\n",
       "    <tr>\n",
       "      <th>Non</th>\n",
       "      <td>37.0</td>\n",
       "      <td>25.3</td>\n",
       "    </tr>\n",
       "    <tr>\n",
       "      <th>Oui</th>\n",
       "      <td>109.0</td>\n",
       "      <td>74.7</td>\n",
       "    </tr>\n",
       "    <tr>\n",
       "      <th>Total</th>\n",
       "      <td>146.0</td>\n",
       "      <td>100.0</td>\n",
       "    </tr>\n",
       "  </tbody>\n",
       "</table>\n",
       "</div>"
      ],
      "text/plain": [
       "       Effectif  Pourcentage (%)\n",
       "Non        37.0             25.3\n",
       "Oui       109.0             74.7\n",
       "Total     146.0            100.0"
      ]
     },
     "execution_count": 34,
     "metadata": {},
     "output_type": "execute_result"
    }
   ],
   "source": [
    "pyshs.tri_a_plat(data,\"usage_jupyter\")"
   ]
  },
  {
   "cell_type": "code",
   "execution_count": 92,
   "id": "17de401b",
   "metadata": {},
   "outputs": [
    {
     "data": {
      "text/html": [
       "<div>\n",
       "<style scoped>\n",
       "    .dataframe tbody tr th:only-of-type {\n",
       "        vertical-align: middle;\n",
       "    }\n",
       "\n",
       "    .dataframe tbody tr th {\n",
       "        vertical-align: top;\n",
       "    }\n",
       "\n",
       "    .dataframe thead th {\n",
       "        text-align: right;\n",
       "    }\n",
       "</style>\n",
       "<table border=\"1\" class=\"dataframe\">\n",
       "  <thead>\n",
       "    <tr style=\"text-align: right;\">\n",
       "      <th>Colleagues using Jupyter</th>\n",
       "      <th>0. Don't know</th>\n",
       "      <th>1. No</th>\n",
       "      <th>2. Yes, a few</th>\n",
       "      <th>3. Yes, a lot</th>\n",
       "      <th>Total</th>\n",
       "    </tr>\n",
       "    <tr>\n",
       "      <th>Personnal use of Jupyter</th>\n",
       "      <th></th>\n",
       "      <th></th>\n",
       "      <th></th>\n",
       "      <th></th>\n",
       "      <th></th>\n",
       "    </tr>\n",
       "  </thead>\n",
       "  <tbody>\n",
       "    <tr>\n",
       "      <th>0. Don't know</th>\n",
       "      <td>58.0 (96.7%)</td>\n",
       "      <td>0.0 (0.0%)</td>\n",
       "      <td>2.0 (3.3%)</td>\n",
       "      <td>0.0 (0.0%)</td>\n",
       "      <td>60 (100%)</td>\n",
       "    </tr>\n",
       "    <tr>\n",
       "      <th>1. Heard about it</th>\n",
       "      <td>7.0 (23.3%)</td>\n",
       "      <td>13.0 (43.3%)</td>\n",
       "      <td>10.0 (33.3%)</td>\n",
       "      <td>0.0 (0.0%)</td>\n",
       "      <td>30 (100%)</td>\n",
       "    </tr>\n",
       "    <tr>\n",
       "      <th>2. Use it (beginner)</th>\n",
       "      <td>2.0 (3.8%)</td>\n",
       "      <td>14.0 (26.9%)</td>\n",
       "      <td>32.0 (61.5%)</td>\n",
       "      <td>4.0 (7.7%)</td>\n",
       "      <td>52 (100%)</td>\n",
       "    </tr>\n",
       "    <tr>\n",
       "      <th>3. Use it (intermediary)</th>\n",
       "      <td>1.0 (2.4%)</td>\n",
       "      <td>5.0 (12.2%)</td>\n",
       "      <td>22.0 (53.7%)</td>\n",
       "      <td>13.0 (31.7%)</td>\n",
       "      <td>41 (100%)</td>\n",
       "    </tr>\n",
       "    <tr>\n",
       "      <th>4. Use it (advanced)</th>\n",
       "      <td>0.0 (0.0%)</td>\n",
       "      <td>3.0 (13.0%)</td>\n",
       "      <td>10.0 (43.5%)</td>\n",
       "      <td>10.0 (43.5%)</td>\n",
       "      <td>23 (100%)</td>\n",
       "    </tr>\n",
       "    <tr>\n",
       "      <th>Total</th>\n",
       "      <td>68.0 (33.0%)</td>\n",
       "      <td>35.0 (17.0%)</td>\n",
       "      <td>76.0 (36.9%)</td>\n",
       "      <td>27.0 (13.1%)</td>\n",
       "      <td>206 (100%)</td>\n",
       "    </tr>\n",
       "  </tbody>\n",
       "</table>\n",
       "</div>"
      ],
      "text/plain": [
       "Colleagues using Jupyter 0. Don't know         1. No 2. Yes, a few  \\\n",
       "Personnal use of Jupyter                                             \n",
       "0. Don't know             58.0 (96.7%)    0.0 (0.0%)    2.0 (3.3%)   \n",
       "1. Heard about it          7.0 (23.3%)  13.0 (43.3%)  10.0 (33.3%)   \n",
       "2. Use it (beginner)        2.0 (3.8%)  14.0 (26.9%)  32.0 (61.5%)   \n",
       "3. Use it (intermediary)    1.0 (2.4%)   5.0 (12.2%)  22.0 (53.7%)   \n",
       "4. Use it (advanced)        0.0 (0.0%)   3.0 (13.0%)  10.0 (43.5%)   \n",
       "Total                     68.0 (33.0%)  35.0 (17.0%)  76.0 (36.9%)   \n",
       "\n",
       "Colleagues using Jupyter 3. Yes, a lot       Total  \n",
       "Personnal use of Jupyter                            \n",
       "0. Don't know               0.0 (0.0%)   60 (100%)  \n",
       "1. Heard about it           0.0 (0.0%)   30 (100%)  \n",
       "2. Use it (beginner)        4.0 (7.7%)   52 (100%)  \n",
       "3. Use it (intermediary)  13.0 (31.7%)   41 (100%)  \n",
       "4. Use it (advanced)      10.0 (43.5%)   23 (100%)  \n",
       "Total                     27.0 (13.1%)  206 (100%)  "
      ]
     },
     "execution_count": 92,
     "metadata": {},
     "output_type": "execute_result"
    }
   ],
   "source": [
    "t = pyshs.tableau_croise(data.fillna(\"0. Don't know\"),\"familiarite_notebook\",\"collegue_notebook\")\n",
    "t.index.name = \"Personnal use of Jupyter\"\n",
    "t.columns.name = \"Colleagues using Jupyter\"\n",
    "t"
   ]
  },
  {
   "cell_type": "code",
   "execution_count": 10,
   "id": "390eb3cd",
   "metadata": {},
   "outputs": [
    {
     "data": {
      "text/html": [
       "<div>\n",
       "<style scoped>\n",
       "    .dataframe tbody tr th:only-of-type {\n",
       "        vertical-align: middle;\n",
       "    }\n",
       "\n",
       "    .dataframe tbody tr th {\n",
       "        vertical-align: top;\n",
       "    }\n",
       "\n",
       "    .dataframe thead th {\n",
       "        text-align: right;\n",
       "    }\n",
       "</style>\n",
       "<table border=\"1\" class=\"dataframe\">\n",
       "  <thead>\n",
       "    <tr style=\"text-align: right;\">\n",
       "      <th></th>\n",
       "      <th>Effectif</th>\n",
       "      <th>Pourcentage (%)</th>\n",
       "    </tr>\n",
       "  </thead>\n",
       "  <tbody>\n",
       "    <tr>\n",
       "      <th>NA</th>\n",
       "      <td>60.0</td>\n",
       "      <td>29.1</td>\n",
       "    </tr>\n",
       "    <tr>\n",
       "      <th>Non</th>\n",
       "      <td>37.0</td>\n",
       "      <td>18.0</td>\n",
       "    </tr>\n",
       "    <tr>\n",
       "      <th>Oui</th>\n",
       "      <td>109.0</td>\n",
       "      <td>52.9</td>\n",
       "    </tr>\n",
       "    <tr>\n",
       "      <th>Total</th>\n",
       "      <td>206.0</td>\n",
       "      <td>100.0</td>\n",
       "    </tr>\n",
       "  </tbody>\n",
       "</table>\n",
       "</div>"
      ],
      "text/plain": [
       "       Effectif  Pourcentage (%)\n",
       "NA         60.0             29.1\n",
       "Non        37.0             18.0\n",
       "Oui       109.0             52.9\n",
       "Total     206.0            100.0"
      ]
     },
     "execution_count": 10,
     "metadata": {},
     "output_type": "execute_result"
    }
   ],
   "source": [
    "pyshs.tri_a_plat(data.fillna(\"NA\"),\"usage_jupyter\")"
   ]
  },
  {
   "cell_type": "code",
   "execution_count": 35,
   "id": "ee270348",
   "metadata": {},
   "outputs": [
    {
     "data": {
      "text/html": [
       "<div>\n",
       "<style scoped>\n",
       "    .dataframe tbody tr th:only-of-type {\n",
       "        vertical-align: middle;\n",
       "    }\n",
       "\n",
       "    .dataframe tbody tr th {\n",
       "        vertical-align: top;\n",
       "    }\n",
       "\n",
       "    .dataframe thead tr th {\n",
       "        text-align: left;\n",
       "    }\n",
       "</style>\n",
       "<table border=\"1\" class=\"dataframe\">\n",
       "  <thead>\n",
       "    <tr>\n",
       "      <th></th>\n",
       "      <th colspan=\"2\" halign=\"left\">Jupyter</th>\n",
       "      <th colspan=\"2\" halign=\"left\">Colab</th>\n",
       "      <th colspan=\"2\" halign=\"left\">Autre</th>\n",
       "    </tr>\n",
       "    <tr>\n",
       "      <th></th>\n",
       "      <th>Effectif</th>\n",
       "      <th>Pourcentage (%)</th>\n",
       "      <th>Effectif</th>\n",
       "      <th>Pourcentage (%)</th>\n",
       "      <th>Effectif</th>\n",
       "      <th>Pourcentage (%)</th>\n",
       "    </tr>\n",
       "  </thead>\n",
       "  <tbody>\n",
       "    <tr>\n",
       "      <th>NA</th>\n",
       "      <td>103.0</td>\n",
       "      <td>50.0</td>\n",
       "      <td>156.0</td>\n",
       "      <td>75.7</td>\n",
       "      <td>177.0</td>\n",
       "      <td>85.9</td>\n",
       "    </tr>\n",
       "    <tr>\n",
       "      <th>X</th>\n",
       "      <td>103.0</td>\n",
       "      <td>50.0</td>\n",
       "      <td>50.0</td>\n",
       "      <td>24.3</td>\n",
       "      <td>29.0</td>\n",
       "      <td>14.1</td>\n",
       "    </tr>\n",
       "    <tr>\n",
       "      <th>Total</th>\n",
       "      <td>206.0</td>\n",
       "      <td>100.0</td>\n",
       "      <td>206.0</td>\n",
       "      <td>100.0</td>\n",
       "      <td>206.0</td>\n",
       "      <td>100.0</td>\n",
       "    </tr>\n",
       "  </tbody>\n",
       "</table>\n",
       "</div>"
      ],
      "text/plain": [
       "       Jupyter                    Colab                    Autre  \\\n",
       "      Effectif Pourcentage (%) Effectif Pourcentage (%) Effectif   \n",
       "NA       103.0            50.0    156.0            75.7    177.0   \n",
       "X        103.0            50.0     50.0            24.3     29.0   \n",
       "Total    206.0           100.0    206.0           100.0    206.0   \n",
       "\n",
       "                       \n",
       "      Pourcentage (%)  \n",
       "NA               85.9  \n",
       "X                14.1  \n",
       "Total           100.0  "
      ]
     },
     "execution_count": 35,
     "metadata": {},
     "output_type": "execute_result"
    }
   ],
   "source": [
    "pd.concat({\"Jupyter\":pyshs.tri_a_plat(data.fillna(\"NA\"),\"notebook_Jupyter\"),\n",
    "\"Colab\":pyshs.tri_a_plat(data.fillna(\"NA\"),\"notebook_Google Colab\"),\n",
    "\"Autre\":pyshs.tri_a_plat(data.fillna(\"NA\"), \"notebook_Autre.1\")},axis=1)"
   ]
  },
  {
   "cell_type": "code",
   "execution_count": 36,
   "id": "7f8fd122",
   "metadata": {},
   "outputs": [
    {
     "data": {
      "text/html": [
       "<div>\n",
       "<style scoped>\n",
       "    .dataframe tbody tr th:only-of-type {\n",
       "        vertical-align: middle;\n",
       "    }\n",
       "\n",
       "    .dataframe tbody tr th {\n",
       "        vertical-align: top;\n",
       "    }\n",
       "\n",
       "    .dataframe thead th {\n",
       "        text-align: right;\n",
       "    }\n",
       "</style>\n",
       "<table border=\"1\" class=\"dataframe\">\n",
       "  <thead>\n",
       "    <tr style=\"text-align: right;\">\n",
       "      <th></th>\n",
       "      <th>N</th>\n",
       "      <th>%</th>\n",
       "    </tr>\n",
       "    <tr>\n",
       "      <th>Jupyter</th>\n",
       "      <th></th>\n",
       "      <th></th>\n",
       "    </tr>\n",
       "  </thead>\n",
       "  <tbody>\n",
       "    <tr>\n",
       "      <th>0. Don't know</th>\n",
       "      <td>60.0</td>\n",
       "      <td>29.1</td>\n",
       "    </tr>\n",
       "    <tr>\n",
       "      <th>1. Heard about it</th>\n",
       "      <td>30.0</td>\n",
       "      <td>14.6</td>\n",
       "    </tr>\n",
       "    <tr>\n",
       "      <th>2. Use it (beginner)</th>\n",
       "      <td>52.0</td>\n",
       "      <td>25.2</td>\n",
       "    </tr>\n",
       "    <tr>\n",
       "      <th>3. Use it (intermediary)</th>\n",
       "      <td>41.0</td>\n",
       "      <td>19.9</td>\n",
       "    </tr>\n",
       "    <tr>\n",
       "      <th>4. Use it (advanced)</th>\n",
       "      <td>23.0</td>\n",
       "      <td>11.2</td>\n",
       "    </tr>\n",
       "    <tr>\n",
       "      <th>Total</th>\n",
       "      <td>206.0</td>\n",
       "      <td>100.0</td>\n",
       "    </tr>\n",
       "  </tbody>\n",
       "</table>\n",
       "</div>"
      ],
      "text/plain": [
       "                              N      %\n",
       "Jupyter                               \n",
       "0. Don't know              60.0   29.1\n",
       "1. Heard about it          30.0   14.6\n",
       "2. Use it (beginner)       52.0   25.2\n",
       "3. Use it (intermediary)   41.0   19.9\n",
       "4. Use it (advanced)       23.0   11.2\n",
       "Total                     206.0  100.0"
      ]
     },
     "execution_count": 36,
     "metadata": {},
     "output_type": "execute_result"
    }
   ],
   "source": [
    "t1 = pyshs.tri_a_plat(data,\"familiarite_notebook\")\n",
    "t1.columns = [\"N\",\"%\"]\n",
    "t1.index.name = \"Jupyter\"\n",
    "t1"
   ]
  },
  {
   "cell_type": "code",
   "execution_count": 37,
   "id": "5b655294",
   "metadata": {},
   "outputs": [
    {
     "data": {
      "text/html": [
       "<div>\n",
       "<style scoped>\n",
       "    .dataframe tbody tr th:only-of-type {\n",
       "        vertical-align: middle;\n",
       "    }\n",
       "\n",
       "    .dataframe tbody tr th {\n",
       "        vertical-align: top;\n",
       "    }\n",
       "\n",
       "    .dataframe thead th {\n",
       "        text-align: right;\n",
       "    }\n",
       "</style>\n",
       "<table border=\"1\" class=\"dataframe\">\n",
       "  <thead>\n",
       "    <tr style=\"text-align: right;\">\n",
       "      <th></th>\n",
       "      <th>N</th>\n",
       "      <th>%</th>\n",
       "    </tr>\n",
       "    <tr>\n",
       "      <th>type of use</th>\n",
       "      <th></th>\n",
       "      <th></th>\n",
       "    </tr>\n",
       "  </thead>\n",
       "  <tbody>\n",
       "    <tr>\n",
       "      <th>1. No</th>\n",
       "      <td>103.0</td>\n",
       "      <td>50.0</td>\n",
       "    </tr>\n",
       "    <tr>\n",
       "      <th>2. Only research</th>\n",
       "      <td>55.0</td>\n",
       "      <td>26.7</td>\n",
       "    </tr>\n",
       "    <tr>\n",
       "      <th>3. Only teaching</th>\n",
       "      <td>13.0</td>\n",
       "      <td>6.3</td>\n",
       "    </tr>\n",
       "    <tr>\n",
       "      <th>4. Teaching and research</th>\n",
       "      <td>35.0</td>\n",
       "      <td>17.0</td>\n",
       "    </tr>\n",
       "    <tr>\n",
       "      <th>Total</th>\n",
       "      <td>206.0</td>\n",
       "      <td>100.0</td>\n",
       "    </tr>\n",
       "  </tbody>\n",
       "</table>\n",
       "</div>"
      ],
      "text/plain": [
       "                              N      %\n",
       "type of use                           \n",
       "1. No                     103.0   50.0\n",
       "2. Only research           55.0   26.7\n",
       "3. Only teaching           13.0    6.3\n",
       "4. Teaching and research   35.0   17.0\n",
       "Total                     206.0  100.0"
      ]
     },
     "execution_count": 37,
     "metadata": {},
     "output_type": "execute_result"
    }
   ],
   "source": [
    "t2 = pyshs.tri_a_plat(data.fillna(\"1. No\"),\"experience_notebook\")\n",
    "t2.columns = [\"N\",\"%\"]\n",
    "t2.index.name = \"type of use\"\n",
    "t2"
   ]
  },
  {
   "cell_type": "code",
   "execution_count": 38,
   "id": "bcd7ad4a",
   "metadata": {},
   "outputs": [
    {
     "data": {
      "text/html": [
       "<div>\n",
       "<style scoped>\n",
       "    .dataframe tbody tr th:only-of-type {\n",
       "        vertical-align: middle;\n",
       "    }\n",
       "\n",
       "    .dataframe tbody tr th {\n",
       "        vertical-align: top;\n",
       "    }\n",
       "\n",
       "    .dataframe thead th {\n",
       "        text-align: right;\n",
       "    }\n",
       "</style>\n",
       "<table border=\"1\" class=\"dataframe\">\n",
       "  <thead>\n",
       "    <tr style=\"text-align: right;\">\n",
       "      <th></th>\n",
       "      <th>N</th>\n",
       "      <th>%</th>\n",
       "    </tr>\n",
       "    <tr>\n",
       "      <th>using it since (year)</th>\n",
       "      <th></th>\n",
       "      <th></th>\n",
       "    </tr>\n",
       "  </thead>\n",
       "  <tbody>\n",
       "    <tr>\n",
       "      <th>0-3</th>\n",
       "      <td>96.0</td>\n",
       "      <td>72.7</td>\n",
       "    </tr>\n",
       "    <tr>\n",
       "      <th>3-5</th>\n",
       "      <td>23.0</td>\n",
       "      <td>17.4</td>\n",
       "    </tr>\n",
       "    <tr>\n",
       "      <th>5-10</th>\n",
       "      <td>13.0</td>\n",
       "      <td>9.8</td>\n",
       "    </tr>\n",
       "    <tr>\n",
       "      <th>Total</th>\n",
       "      <td>132.0</td>\n",
       "      <td>99.9</td>\n",
       "    </tr>\n",
       "  </tbody>\n",
       "</table>\n",
       "</div>"
      ],
      "text/plain": [
       "                           N     %\n",
       "using it since (year)             \n",
       "0-3                     96.0  72.7\n",
       "3-5                     23.0  17.4\n",
       "5-10                    13.0   9.8\n",
       "Total                  132.0  99.9"
      ]
     },
     "execution_count": 38,
     "metadata": {},
     "output_type": "execute_result"
    }
   ],
   "source": [
    "t3 = pyshs.tri_a_plat(data,\"temps_notebook\")\n",
    "t3.index.name = \"using it since (year)\"\n",
    "t3.columns = [\"N\",\"%\"]\n",
    "t3"
   ]
  },
  {
   "cell_type": "markdown",
   "id": "549a88ef",
   "metadata": {},
   "source": [
    "### Tableau résumé"
   ]
  },
  {
   "cell_type": "code",
   "execution_count": 39,
   "id": "3175fdd5",
   "metadata": {},
   "outputs": [
    {
     "data": {
      "text/html": [
       "<div>\n",
       "<style scoped>\n",
       "    .dataframe tbody tr th:only-of-type {\n",
       "        vertical-align: middle;\n",
       "    }\n",
       "\n",
       "    .dataframe tbody tr th {\n",
       "        vertical-align: top;\n",
       "    }\n",
       "\n",
       "    .dataframe thead th {\n",
       "        text-align: right;\n",
       "    }\n",
       "</style>\n",
       "<table border=\"1\" class=\"dataframe\">\n",
       "  <thead>\n",
       "    <tr style=\"text-align: right;\">\n",
       "      <th></th>\n",
       "      <th></th>\n",
       "      <th>N</th>\n",
       "      <th>%</th>\n",
       "    </tr>\n",
       "  </thead>\n",
       "  <tbody>\n",
       "    <tr>\n",
       "      <th rowspan=\"6\" valign=\"top\">Jupyter</th>\n",
       "      <th>0. Don't know</th>\n",
       "      <td>60.0</td>\n",
       "      <td>29.1</td>\n",
       "    </tr>\n",
       "    <tr>\n",
       "      <th>1. Heard about it</th>\n",
       "      <td>30.0</td>\n",
       "      <td>14.6</td>\n",
       "    </tr>\n",
       "    <tr>\n",
       "      <th>2. Use it (beginner)</th>\n",
       "      <td>52.0</td>\n",
       "      <td>25.2</td>\n",
       "    </tr>\n",
       "    <tr>\n",
       "      <th>3. Use it (intermediary)</th>\n",
       "      <td>41.0</td>\n",
       "      <td>19.9</td>\n",
       "    </tr>\n",
       "    <tr>\n",
       "      <th>4. Use it (advanced)</th>\n",
       "      <td>23.0</td>\n",
       "      <td>11.2</td>\n",
       "    </tr>\n",
       "    <tr>\n",
       "      <th>Total</th>\n",
       "      <td>206.0</td>\n",
       "      <td>100.0</td>\n",
       "    </tr>\n",
       "    <tr>\n",
       "      <th rowspan=\"5\" valign=\"top\">Use</th>\n",
       "      <th>1. No</th>\n",
       "      <td>103.0</td>\n",
       "      <td>50.0</td>\n",
       "    </tr>\n",
       "    <tr>\n",
       "      <th>2. Only research</th>\n",
       "      <td>55.0</td>\n",
       "      <td>26.7</td>\n",
       "    </tr>\n",
       "    <tr>\n",
       "      <th>3. Only teaching</th>\n",
       "      <td>13.0</td>\n",
       "      <td>6.3</td>\n",
       "    </tr>\n",
       "    <tr>\n",
       "      <th>4. Teaching and research</th>\n",
       "      <td>35.0</td>\n",
       "      <td>17.0</td>\n",
       "    </tr>\n",
       "    <tr>\n",
       "      <th>Total</th>\n",
       "      <td>206.0</td>\n",
       "      <td>100.0</td>\n",
       "    </tr>\n",
       "    <tr>\n",
       "      <th rowspan=\"4\" valign=\"top\">Since</th>\n",
       "      <th>0-3</th>\n",
       "      <td>96.0</td>\n",
       "      <td>72.7</td>\n",
       "    </tr>\n",
       "    <tr>\n",
       "      <th>3-5</th>\n",
       "      <td>23.0</td>\n",
       "      <td>17.4</td>\n",
       "    </tr>\n",
       "    <tr>\n",
       "      <th>5-10</th>\n",
       "      <td>13.0</td>\n",
       "      <td>9.8</td>\n",
       "    </tr>\n",
       "    <tr>\n",
       "      <th>Total</th>\n",
       "      <td>132.0</td>\n",
       "      <td>99.9</td>\n",
       "    </tr>\n",
       "  </tbody>\n",
       "</table>\n",
       "</div>"
      ],
      "text/plain": [
       "                                      N      %\n",
       "Jupyter 0. Don't know              60.0   29.1\n",
       "        1. Heard about it          30.0   14.6\n",
       "        2. Use it (beginner)       52.0   25.2\n",
       "        3. Use it (intermediary)   41.0   19.9\n",
       "        4. Use it (advanced)       23.0   11.2\n",
       "        Total                     206.0  100.0\n",
       "Use     1. No                     103.0   50.0\n",
       "        2. Only research           55.0   26.7\n",
       "        3. Only teaching           13.0    6.3\n",
       "        4. Teaching and research   35.0   17.0\n",
       "        Total                     206.0  100.0\n",
       "Since   0-3                        96.0   72.7\n",
       "        3-5                        23.0   17.4\n",
       "        5-10                       13.0    9.8\n",
       "        Total                     132.0   99.9"
      ]
     },
     "execution_count": 39,
     "metadata": {},
     "output_type": "execute_result"
    }
   ],
   "source": [
    "pd.concat({\"Jupyter\":t1,\"Use\":t2,\"Since\":t3})"
   ]
  },
  {
   "cell_type": "code",
   "execution_count": 35,
   "id": "3666090d",
   "metadata": {},
   "outputs": [
    {
     "name": "stdout",
     "output_type": "stream",
     "text": [
      "0.008943704965512169\n"
     ]
    },
    {
     "data": {
      "text/html": [
       "<div>\n",
       "<style scoped>\n",
       "    .dataframe tbody tr th:only-of-type {\n",
       "        vertical-align: middle;\n",
       "    }\n",
       "\n",
       "    .dataframe tbody tr th {\n",
       "        vertical-align: top;\n",
       "    }\n",
       "\n",
       "    .dataframe thead th {\n",
       "        text-align: right;\n",
       "    }\n",
       "</style>\n",
       "<table border=\"1\" class=\"dataframe\">\n",
       "  <thead>\n",
       "    <tr style=\"text-align: right;\">\n",
       "      <th></th>\n",
       "      <th>0. Don't know</th>\n",
       "      <th>1. Heard about it</th>\n",
       "      <th>2. Use it (beginner)</th>\n",
       "      <th>3. Use it (intermediary)</th>\n",
       "      <th>4. Use it (advanced)</th>\n",
       "      <th>5. Don't know</th>\n",
       "      <th>Total</th>\n",
       "    </tr>\n",
       "  </thead>\n",
       "  <tbody>\n",
       "    <tr>\n",
       "      <th>1. &lt;25</th>\n",
       "      <td>2.0 (10.5%)</td>\n",
       "      <td>2.0 (10.5%)</td>\n",
       "      <td>4.0 (21.1%)</td>\n",
       "      <td>9.0 (47.4%)</td>\n",
       "      <td>2.0 (10.5%)</td>\n",
       "      <td>0.0 (0.0%)</td>\n",
       "      <td>19 (100%)</td>\n",
       "    </tr>\n",
       "    <tr>\n",
       "      <th>2. 26 - 35</th>\n",
       "      <td>19.0 (23.8%)</td>\n",
       "      <td>14.0 (17.5%)</td>\n",
       "      <td>23.0 (28.8%)</td>\n",
       "      <td>14.0 (17.5%)</td>\n",
       "      <td>10.0 (12.5%)</td>\n",
       "      <td>0.0 (0.0%)</td>\n",
       "      <td>80 (100%)</td>\n",
       "    </tr>\n",
       "    <tr>\n",
       "      <th>3. 36 - 45</th>\n",
       "      <td>16.0 (31.4%)</td>\n",
       "      <td>6.0 (11.8%)</td>\n",
       "      <td>10.0 (19.6%)</td>\n",
       "      <td>10.0 (19.6%)</td>\n",
       "      <td>9.0 (17.6%)</td>\n",
       "      <td>0.0 (0.0%)</td>\n",
       "      <td>51 (100%)</td>\n",
       "    </tr>\n",
       "    <tr>\n",
       "      <th>5. 46 - 55</th>\n",
       "      <td>10.0 (25.6%)</td>\n",
       "      <td>6.0 (15.4%)</td>\n",
       "      <td>14.0 (35.9%)</td>\n",
       "      <td>6.0 (15.4%)</td>\n",
       "      <td>2.0 (5.1%)</td>\n",
       "      <td>1.0 (2.6%)</td>\n",
       "      <td>39 (100%)</td>\n",
       "    </tr>\n",
       "    <tr>\n",
       "      <th>5. &gt;56</th>\n",
       "      <td>12.0 (70.6%)</td>\n",
       "      <td>2.0 (11.8%)</td>\n",
       "      <td>1.0 (5.9%)</td>\n",
       "      <td>2.0 (11.8%)</td>\n",
       "      <td>0.0 (0.0%)</td>\n",
       "      <td>0.0 (0.0%)</td>\n",
       "      <td>17 (100%)</td>\n",
       "    </tr>\n",
       "    <tr>\n",
       "      <th>Total</th>\n",
       "      <td>59.0 (28.6%)</td>\n",
       "      <td>30.0 (14.6%)</td>\n",
       "      <td>52.0 (25.2%)</td>\n",
       "      <td>41.0 (19.9%)</td>\n",
       "      <td>23.0 (11.2%)</td>\n",
       "      <td>1.0 (0.5%)</td>\n",
       "      <td>206 (100%)</td>\n",
       "    </tr>\n",
       "  </tbody>\n",
       "</table>\n",
       "</div>"
      ],
      "text/plain": [
       "           0. Don't know 1. Heard about it 2. Use it (beginner)  \\\n",
       "1. <25       2.0 (10.5%)       2.0 (10.5%)          4.0 (21.1%)   \n",
       "2. 26 - 35  19.0 (23.8%)      14.0 (17.5%)         23.0 (28.8%)   \n",
       "3. 36 - 45  16.0 (31.4%)       6.0 (11.8%)         10.0 (19.6%)   \n",
       "5. 46 - 55  10.0 (25.6%)       6.0 (15.4%)         14.0 (35.9%)   \n",
       "5. >56      12.0 (70.6%)       2.0 (11.8%)           1.0 (5.9%)   \n",
       "Total       59.0 (28.6%)      30.0 (14.6%)         52.0 (25.2%)   \n",
       "\n",
       "           3. Use it (intermediary) 4. Use it (advanced) 5. Don't know  \\\n",
       "1. <25                  9.0 (47.4%)          2.0 (10.5%)    0.0 (0.0%)   \n",
       "2. 26 - 35             14.0 (17.5%)         10.0 (12.5%)    0.0 (0.0%)   \n",
       "3. 36 - 45             10.0 (19.6%)          9.0 (17.6%)    0.0 (0.0%)   \n",
       "5. 46 - 55              6.0 (15.4%)           2.0 (5.1%)    1.0 (2.6%)   \n",
       "5. >56                  2.0 (11.8%)           0.0 (0.0%)    0.0 (0.0%)   \n",
       "Total                  41.0 (19.9%)         23.0 (11.2%)    1.0 (0.5%)   \n",
       "\n",
       "                 Total  \n",
       "1. <25       19 (100%)  \n",
       "2. 26 - 35   80 (100%)  \n",
       "3. 36 - 45   51 (100%)  \n",
       "5. 46 - 55   39 (100%)  \n",
       "5. >56       17 (100%)  \n",
       "Total       206 (100%)  "
      ]
     },
     "execution_count": 35,
     "metadata": {},
     "output_type": "execute_result"
    }
   ],
   "source": [
    "t,p = pyshs.tableau_croise(data,\"age\",\"familiarite_notebook\",p=True)\n",
    "print(p)\n",
    "t"
   ]
  },
  {
   "cell_type": "code",
   "execution_count": 22,
   "id": "ca1998f5",
   "metadata": {},
   "outputs": [
    {
     "data": {
      "text/plain": [
       "<Axes: >"
      ]
     },
     "execution_count": 22,
     "metadata": {},
     "output_type": "execute_result"
    },
    {
     "data": {
      "image/png": "[encoded data removed]",
      "text/plain": [
       "<Figure size 640x480 with 1 Axes>"
      ]
     },
     "metadata": {},
     "output_type": "display_data"
    }
   ],
   "source": [
    "data[\"niveau_notebook\"].value_counts().sort_index().plot(kind=\"bar\")"
   ]
  },
  {
   "cell_type": "markdown",
   "id": "c4051315",
   "metadata": {},
   "source": [
    "Résumé : \n",
    "\n",
    "- Uniquement expérimenté lors du suivi de formation et de cours\n",
    "- Publication des résultats de recherche sous forme de JupyterNotebook\n",
    "- Exploration des données\n",
    "- Réutilisation de notebooks créés par d'autres (informaticiens)\n",
    "- workflow complet\n",
    "- améliorer la documentation des scripts\n",
    "- pour la réalisation des preuves de concepts\n",
    "- uniquement pour les petits scripts\n",
    "- former les stagiaires dans l'équipe\n",
    "- support du travail collaboratif"
   ]
  },
  {
   "cell_type": "markdown",
   "id": "13db2ace",
   "metadata": {},
   "source": [
    "Profil du support unique : \n",
    "\n",
    "Très utile pour de très nombreux usages (globalement, je n'utilise presque que cela) :   - Exploration et prototypage (statistiques, dataviz, etc.)   - Production de rapports (Markdown + LaTeX pour la mise en forme des équations et notations mathématiques)   - Slides de présentation (en remplacement de PowerPoint)   - Manipulation de données (en remplacement d'un tableur type Excel)   - L'enseignement et la formation (très utile par son caractère interactif et facile à prendre en main)   - Serveur et partage (facile de mettre en place un serveur Jupyter pour des usages collaboratifs ou pour mettre en place des espaces de travail pour des formations)"
   ]
  },
  {
   "cell_type": "code",
   "execution_count": 69,
   "id": "912c9bb2",
   "metadata": {},
   "outputs": [
    {
     "data": {
      "text/plain": [
       "heure                  27/03/2023 - 20:04\n",
       "genre                                   H\n",
       "statut                 Ingénieur d'études\n",
       "autre                                 NaN\n",
       "contrat               Non titulaire (CDD)\n",
       "age                            2. 26 - 35\n",
       "disc_Anthropologie                    NaN\n",
       "disc_Archéologie                      NaN\n",
       "disc_Economie                         NaN\n",
       "disc_Géographie                         X\n",
       "disc_Histoire                           X\n",
       "disc_Linguistique                     NaN\n",
       "disc_Littérature                      NaN\n",
       "disc_Philosophie                      NaN\n",
       "disc_Psychologie                      NaN\n",
       "disc_Sociologie                       NaN\n",
       "disc_Autre                            NaN\n",
       "prog_A+                               NaN\n",
       "prog_Bash                               X\n",
       "prog_C                                NaN\n",
       "Name: 87, dtype: object"
      ]
     },
     "execution_count": 69,
     "metadata": {},
     "output_type": "execute_result"
    }
   ],
   "source": [
    "data[data[\"pratique_notebook\"].str.contains(\"Très utile pour de très nombreux usages\").fillna(False)].iloc[0][0:20]"
   ]
  },
  {
   "cell_type": "code",
   "execution_count": 94,
   "id": "36468beb",
   "metadata": {},
   "outputs": [
    {
     "data": {
      "text/plain": [
       "1"
      ]
     },
     "execution_count": 94,
     "metadata": {},
     "output_type": "execute_result"
    }
   ],
   "source": [
    "d.str.lower().str.contains(\"reproduc\").sum()"
   ]
  },
  {
   "cell_type": "code",
   "execution_count": 39,
   "id": "0fc634bb",
   "metadata": {
    "scrolled": false
   },
   "outputs": [
    {
     "name": "stdout",
     "output_type": "stream",
     "text": [
      "Publication des résultats de recherche sous forme de JupyterNotebook||- \n",
      "\n",
      "C'est le principal support que j'utilise||nan \n",
      "\n",
      "exploration de données||nan \n",
      "\n",
      "nan||Je génère des documents HTML en Rmardown, mais n'utilise pas de carnets interactifs \n",
      "\n",
      "nan||Supports d'enseignement   Analyse de données   Apprentissage automatique \n",
      "\n",
      "Suivi de cours en ligne (programmation Python sur Udemy)   Suivi de webinaires (séminaire PHN-AHN laboratoire Larhra 2020)   BSO (réutilisation de carnets déjà réalisés)   Scrapping de données (MIAR)||nan \n",
      "\n",
      "Tentative d'utilisation dans le cadre d'un cours open classroom. Pour l'instant, je n'y ai pas donné suite.||nan \n",
      "\n",
      "workflow complet de la collecte à la publication à partir de Rmarkdown||idem \n",
      "\n",
      "nan||Exécution du code python.   Support de cours. \n",
      "\n",
      "Après quelques scripts directement en texte, j'ai découvert les Jupyter Notebooks qui sont extrêmement pratiques pour documenter le code, le séparer en plusieurs pipelines, n'exécuter que certaines parties. Je n'ai pas d'usage plus poussé.||Voir ci-dessus. \n",
      "\n",
      "Dans le cadre de formation, decouverte de python via cette entrée||nan \n",
      "\n",
      "Réalisation d'un pilote (poc) sur des traitements de données de mouvement||nan \n",
      "\n",
      "Formation doctorale débutée en février||nan \n",
      "\n",
      "nan||Je ne le fais pas par manque de temps et parce que je manipule des données XML. Avoir des notebooks dans le domaine XML/xslt/xquery serait un plus ! Je réponds quand même car cela est quelque chose que je souhaiterais mettre en place (avoir des modèles pour démarrer dans mon domaine serait une grande aide) .    - procédures commentées (pour moi même)   - formation / transmission   - outils de préparation de données. Idéalement, il s'agirait de créer des notebooks pour faire des exports de jeux de données à déposer dans des entrepôts (selon les modalités et temporalités définies dans un PGD). Idem pour préparer et \"rejouer\" des fichiers readme explicatifs sur un jeu de données (certes, une sorte de \"détournement\" de la fonction première).    \n",
      "\n",
      "Je rédige tous mes scripts dans Jupyter.||nan \n",
      "\n",
      "Dans le cadre de cours, pour pratiquer python avec d'autres élèves||nan \n",
      "\n",
      "C'est un environnement de travail particulièrement pratique pour réaliser des analyses ou extractions de données, et les communiquer ou les expliquer aux chercheurs. L'exécution du code par cellule et non en un seul bloc rend la programmation beaucoup plus souple, et la possibilité d'enrichir le code par du texte permet aux carnets d'être un outil très complet.||- Analyses de données textuelles/text mining   - Webscrapping   - Nettoyage et formatage de données : regex, structuration en csv \n",
      "\n",
      "J'utilise Jupyter pour documenter mes scripts Python et les lancer dynamiquement.   Des fichiers Markdown pour documenter mes scripts R.||nan \n",
      "\n",
      "nan||exécuter du python \n",
      "\n",
      "Carnets Jupyter vu en cours de master HN||Aucuns \n",
      "\n",
      "nan||transformation de données   visualisation \n",
      "\n",
      "Utilisation ponctuelle pour collaborer avec des collègues||Traitement d'images (Binarisation) \n",
      "\n",
      "nan||Création de documents pour étudiants (TPs) \n",
      "\n",
      "J'utilise toujours les Jupyter Notebooks pour mes \"petits\" scripts Python.      J'utilise Google Colab uniquement pour l'entraînement de réseaux de neurones, assez rarement donc.||Standard III-F, Intelligence artificielle, algorithmes, manipulation d'images et de fichiers txt. \n",
      "\n",
      "Utilisation de carnet crées par des collègues informaticiens||Visualisation de données \n",
      "\n",
      "Dans le cadre d'un projet utilisant l'intelligence artificielle||C'est encore nouveau \n",
      "\n",
      "nan||- Pour garder une trace des workflows de traitement de données dans les projets de recherche (mêmes types de traitement que ceux réalisés avec Python).   - Documents supports dans le cadre d'ateliers numériques en master. \n",
      "\n",
      "Très utile pour de très nombreux usages (globalement, je n'utilise presque que cela) :   - Exploration et prototypage (statistiques, dataviz, etc.)   - Production de rapports (Markdown + LaTeX pour la mise en forme des équations et notations mathématiques)   - Slides de présentation (en remplacement de PowerPoint)   - Manipulation de données (en remplacement d'un tableur type Excel)   - L'enseignement et la formation (très utile par son caractère interactif et facile à prendre en main)   - Serveur et partage (facile de mettre en place un serveur Jupyter pour des usages collaboratifs ou pour mettre en place des espaces de travail pour des formations)||Globalement, tous les usages du traitement de texte et de l'analyse de données combinés :   - Excel   - PPT   - Word   - Prototypage Python (ou R => Possible d'installer d'autres Kernel avec Jupyter aussi pour travailler avec d'autres langages) \n",
      "\n",
      "Je mets en place des notebooks pour :   - expliquer des méthodes à des collègues   - montrer et expliquer à des stagiaires comment analyser les données   - faire ma propre documentation de travail||- pour modifier le format de mes données   - pour montrer / expliquer des méthodes aux stagiaires et collègues   - pour annoter et enrichir mes textes (Spacy, TextBlob, scikit-learn....)   - analyse cartographique (collaboration avec une collègue, projection d'adresses parisiennes sur la carte de Paris - son notebook me permet de comprendre et d'apprendre à faire cela !  Projet Paris Time Machine) \n",
      "\n",
      "Encore un peu de mal, mais pour collaborer avec des collègues sur des projets ou des cours. ||nan \n",
      "\n",
      "Je code toutes mes extractions et analyses sur de tels notebooks. Cet outils se révèlent également pratique lorsqu'il s'agit d'annoter un code ou de mentionner quelques résultats importants à l'écrit grâce à l'implémentation de Markdown.||Création d'un environnement virtuel de programmation,   Programmation elle-même,   Organisation de codes en sous-parties, grâce à l'implémentation de Markdown.   Renseignement de quelques résultats et pistes de recherches futures. \n",
      "\n",
      "C'est la même chose que Python ou R ou n'importe quel langage \"interprété\". Le carnet, c'est un forme de présentation des outputs.||Même réponse que avant. \n",
      "\n",
      "pas d'avis||nan \n",
      "\n",
      "J'utilises les notebook (principalement avec visual studio code) pour tester mes fonction en python. Et visualiser mes données||- visualisation de données \n",
      "\n",
      "Je développe des widgets pour Jupyter et j'ai contribué à IPython. Je trouve que les notebooks sont un bon outil pour explorer des données et pour les cours de programmation mais un très mauvais moyen d'industrialiser du code.||nan \n",
      "\n",
      "J'utilise des notebooks Google Colab pour enseigner le Python aux étudiants de Sciences Po.      Mon laboratoire développe un widget de visualisations de réseaux dans des notebooks : ipysigma||Exploration de données \n",
      "\n",
      "nan||Utilisation de Quarto (auparavant, Rmarkdown) sur Rstudio pour la production de documents synthétisant des analyses statistiques, ou la production de diaporama (revealjs) \n",
      "\n",
      "RMarkdown pour la documentation des analyses||nan \n",
      "\n",
      "J'utilise principalement des Jupyter notebooks pour mes script Python. J'ai une fois du utiliser google Colab pour un projet de Machine Learning ||Mes scripts d'analyse de donnees EEG sont sous forme de Jupyter notebook  \n",
      "\n",
      "J'ai utilisé les R Notebooks comme support d'analyses des données publié avec les articles. Aussi comme support de cours ||Statistique ; réplications des analyses ; machine learning ; apprentissage d'R \n",
      "\n",
      "Utilisé lors d'un cours en tant qu'étudiante||nan \n",
      "\n",
      "utilisation et réalisation de tutoriels sous la forme de jupyter notebooks (utilisation dans Google Colab)||nan \n",
      "\n",
      "Jupyter notebook : Data paper, pour présenter mes programmes à mes collègues et à la communauté de manière plus accessible.      Google collab : certains outils ne s'installent pas bien sur les os et s'installent mieux en passant par l'interface GGcollab||Tâches de TAL :  Reconnaissance d'entités nommées, segmentation, tokenisation...    statistique et visualisation de données \n",
      "\n",
      "Travail collaboratif s'appuyant sur les jupyter notebooks sur git. Travail sur différentes branches. Publication sous la forme de notebooks. Certains de mes collaborateurs utilisent les notebooks pour extraire leurs présentations pour des interventions (conférences)||Avec Python :   fréquence de mots   cooccurrences de mots   text reuse   visualisation des phénomènes ci-dessus à travers un large corpus   automatisation de balisage de textes en XML-TEI (structure + entités nommées) \n",
      "\n",
      "nan||formation/support, publication, webapp, partage de résultat intermédiaire    \n",
      "\n",
      "Je n’utilise que Jupyter pour tout ce que j’écris en Python. J’utilise Google.colab pour effectuer des calculs qui prennent trop longtemps sur mon ordinateur ||nan \n",
      "\n",
      "J'utilise pratiquement que des notebooks dans le cadre de mes recherche, cela me permet de créer plus tard des modules indépendants une fois que les scripts ont été perfectionnés. ||nan \n",
      "\n",
      "Utilisation de notebooks durant un cours sur le machine learning||nan \n",
      "\n",
      "j'ai co-créé un prototype de plateforme JHub/JLab pour les chercheurs SHS||nan \n",
      "\n",
      "J'utilise Jupyter au quotidien pour mes analyses.   J'ai utilise' Colab pour un seminaire que j'ai donne' a' la fac sur l'intelligence artificielle dans les sciences humaines. J'ai montre' un script Python (un classifier de textes) en execution par biais de mon Google Colab, avec le jeu de donnees stocke' dans mon Google Drive. Je me suis servi de cet moyen pour eviter de devoir installer Jupyter sur l'ordinateur de la salle, ainsi que pour eviter tous problemes de compatibilites, etc.||Nettoyage de donnees.   Analyse exploratoire de donnees.   Apprentissage automatique.   Traitement automatique du langage naturel. \n",
      "\n",
      "99% de mon utilisation de python passe par des notebook (avec viscose depuis plusieurs mois). Je les utilise aussi pour enseigner python ||nan \n",
      "\n",
      "nan||montrer des exxemple   collaborez \n",
      "\n",
      "membre du gt notebook   réalisation d'un atelier prototype en décembre 2021   poursuite par un webinaire - échange de pratique   mise au point de notebook pour interroger des dépôts de triplets rdf||nettoyage des données   packages de représentation géospatiale   dialogue interdisciplinaire \n",
      "\n",
      "le professeur s'en servait pour faire les TD. C'était une catastrophe:    D'une part si on suit ce qu'il fait sur l'écran on ne peut pas prendre de notes ni reproduire ce qu'il fait sur son propre notebook,   D'autre part le fichier fourni est différent de celui discuté en cours ( puisque le professeur le modifie au fur et à mesure du \"TD\"). On n'a donc aucun repère, aucune référence.   La cata a été quand on s'est apperçu que le prof faisait ces TD à la place du cours.On n'avait donc absolument aucun matériel pour réviser à la fin de la présentation. EXTREMEMENT DEMORALISANT. Et comme le prof croit qu'on est dans sa tete, il ne veut pas fournir autre chose.||nan \n",
      "\n",
      "Dans le cadre d'une collaboration d'un ingénieur sur mes données||Recherche des patrons \n",
      "\n",
      "Très pratique pour obtenir dynamiquement des résultats, et colab propose des GPU (la plupart des modules utilisent cuda)||Comme précédemment (je ne travaille presque que comme ça, sauf pour les scripts vraiment coûteux) \n",
      "\n",
      "nan||-utiliser Detectron2 dans Google Colab lors d'un travail de groupe car mon ordinateur ne possède pas de GPU  \n",
      "\n",
      "Scripts réutilisables (donc reproductibles) avec documentation en Markdown.||Tous les scripts Python que j'écris sont sur des carnets Jupyter. \n",
      "\n",
      "nan||Pour des travaux communs ou des travaux qui demande une puissance importante (notamment en terme de GPU) sur Google Collab \n",
      "\n",
      "nan||Rapports automatisés, mais je ne les utilise plus.    \n",
      "\n",
      "nan||Rapports automatisés, mais je ne les utilise plus.    \n",
      "\n",
      "Lors d'un cours sur Python, nous devions utiliser Jupyter notebook afin de réalisé un résumé du cours comprenant les formules, ce qui a permis un apprentissage plus rapide de l'outil||- Vérification de l'intégrité d'un code   - Étude du fonctionnement d'un code \n",
      "\n",
      "Utilisation dans le cadre d'une formation à Python||nan \n",
      "\n",
      "Utilisé dans le cadre de cours d'informatique||nan \n",
      "\n",
      "Uniquement pour tester les projets qui ils sont en phase d'élaboration (API-HAL python, webscraping)||nan \n",
      "\n",
      "En cours dans le cadre de mon Anr||TAL pour des algorithmes d’apprentissage \n",
      "\n"
     ]
    }
   ],
   "source": [
    "d = data[[\"pratique_notebook\",\"traitement_notebook\"]].apply(lambda x : \"||\".join([str(j) for j in x]),axis=1)\\\n",
    ".replace(\"nan||nan\",None).dropna().str.replace(\"\\n\",\" \").str.replace(\"\\r\",\" \")\n",
    "d.to_csv(\"pratiques_nb.csv\")\n",
    "for i in list(d):\n",
    "    print(i,\"\\n\")"
   ]
  },
  {
   "cell_type": "markdown",
   "id": "d8657782",
   "metadata": {},
   "source": [
    "le professeur s'en servait pour faire les TD. C'était une catastrophe:    D'une part si on suit ce qu'il fait sur l'écran on ne peut pas prendre de notes ni reproduire ce qu'il fait sur son propre notebook,   D'autre part le fichier fourni est différent de celui discuté en cours ( puisque le professeur le modifie au fur et à mesure du \"TD\"). On n'a donc aucun repère, aucune référence.   La cata a été quand on s'est apperçu que le prof faisait ces TD à la place du cours.On n'avait donc absolument aucun matériel pour réviser à la fin de la présentation. EXTREMEMENT DEMORALISANT. Et comme le prof croit qu'on est dans sa tete, il ne veut pas fournir autre chose."
   ]
  }
 ],
 "metadata": {
  "kernelspec": {
   "display_name": "Python 3 (ipykernel)",
   "language": "python",
   "name": "python3"
  },
  "language_info": {
   "codemirror_mode": {
    "name": "ipython",
    "version": 3
   },
   "file_extension": ".py",
   "mimetype": "text/x-python",
   "name": "python",
   "nbconvert_exporter": "python",
   "pygments_lexer": "ipython3",
   "version": "3.9.13"
  }
 },
 "nbformat": 4,
 "nbformat_minor": 5
}
